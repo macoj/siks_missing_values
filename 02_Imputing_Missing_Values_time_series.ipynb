{
 "cells": [
  {
   "cell_type": "code",
   "execution_count": null,
   "id": "02030907",
   "metadata": {},
   "outputs": [],
   "source": [
    "%config InlineBackend.figure_format = 'retina'"
   ]
  },
  {
   "cell_type": "code",
   "execution_count": null,
   "id": "5df019e6",
   "metadata": {},
   "outputs": [],
   "source": [
    "import pandas as pd"
   ]
  },
  {
   "cell_type": "code",
   "execution_count": null,
   "id": "ad455421",
   "metadata": {},
   "outputs": [],
   "source": [
    "import matplotlib.pyplot as plt"
   ]
  },
  {
   "cell_type": "markdown",
   "id": "f0a4c3f4",
   "metadata": {},
   "source": [
    "<div class=\"alert alert-danger\">\n",
    "  You must have Prophet package: <br>\n",
    "   ! pip install prophet <br>\n",
    "</div>"
   ]
  },
  {
   "cell_type": "markdown",
   "id": "c395219f",
   "metadata": {},
   "source": [
    "# 1) Loading data"
   ]
  },
  {
   "cell_type": "code",
   "execution_count": null,
   "id": "802cece7",
   "metadata": {},
   "outputs": [],
   "source": [
    "one_day_data = pd.read_csv(\"./data/binned_one_day.csv\")\n",
    "whole_data = pd.read_csv(\"./data/binned_whole_data_set.csv\")"
   ]
  },
  {
   "cell_type": "code",
   "execution_count": null,
   "id": "226ee26b",
   "metadata": {},
   "outputs": [],
   "source": [
    "one_day_data.head()"
   ]
  },
  {
   "cell_type": "code",
   "execution_count": null,
   "id": "f1090e6f",
   "metadata": {},
   "outputs": [],
   "source": [
    "whole_data.head()"
   ]
  },
  {
   "cell_type": "markdown",
   "id": "be9ec1d8",
   "metadata": {},
   "source": [
    "# 2) Let's focus on the one-day data set"
   ]
  },
  {
   "cell_type": "code",
   "execution_count": null,
   "id": "ab98edab",
   "metadata": {},
   "outputs": [],
   "source": [
    "plt.figure(figsize=(10, 2))\n",
    "plt.plot(one_day_data[\"15min_bin\"], one_day_data.glucose, lw=0, marker=\"o\")\n",
    "plt.xlabel(\"Minute\")\n",
    "plt.ylabel(\"Inferred Glucose\");"
   ]
  },
  {
   "cell_type": "code",
   "execution_count": null,
   "id": "2b005b4f",
   "metadata": {},
   "outputs": [],
   "source": [
    "missing_minutes = one_day_data[one_day_data.isna()[\"glucose\"]][\"15min_bin\"].values"
   ]
  },
  {
   "cell_type": "code",
   "execution_count": null,
   "id": "1339d6a9",
   "metadata": {},
   "outputs": [],
   "source": [
    "plt.figure(figsize=(10, 2))\n",
    "plt.plot(one_day_data[\"15min_bin\"], one_day_data.glucose, lw=0, marker=\"o\")\n",
    "for d in missing_minutes:\n",
    "    plt.axvline(d, lw=1, color='red', alpha=0.5)\n",
    "plt.xlabel(\"Minute\")\n",
    "plt.ylabel(\"Inferred Glucose\");"
   ]
  },
  {
   "cell_type": "code",
   "execution_count": null,
   "id": "3194444a",
   "metadata": {},
   "outputs": [],
   "source": [
    "data = one_day_data"
   ]
  },
  {
   "cell_type": "markdown",
   "id": "4d1a2f80",
   "metadata": {},
   "source": [
    "# 3) Imputing missing values\n",
    "\n",
    "### Simple Imputation\n",
    "1. Forward Fill (ffill)  \n",
    "2. Backward Fill (bfill)  \n",
    "3. Central Tendency: Mean Imputation\n",
    "\n",
    "### Rolling Window Imputation\n",
    "4. Moving Average Imputation  \n",
    "\n",
    "### Machine Learning-based\n",
    "5. k-Nearest Neighbors (KNN) Imputation  \n",
    "\n",
    "### Interpolation-based Methods\n",
    "6. Nearest Interpolation  \n",
    "7. Linear Interpolation  \n",
    "8. Quadratic Interpolation  \n",
    "9. Polynomial Interpolation  \n",
    "10. Spline Interpolation  \n",
    "\n",
    "### Time Series Decomposition\n",
    "11. Trend & Seasonal Decomposition (STL)  \n",
    "\n",
    "### Forecast-based Imputation\n",
    "12. Prophet Forecasting Imputation  \n"
   ]
  },
  {
   "cell_type": "markdown",
   "id": "a2962a15",
   "metadata": {},
   "source": [
    "## 3.1) Forward-Filling Method"
   ]
  },
  {
   "cell_type": "code",
   "execution_count": null,
   "id": "1bf71de5",
   "metadata": {},
   "outputs": [],
   "source": [
    "data.head()"
   ]
  },
  {
   "cell_type": "code",
   "execution_count": null,
   "id": "737a4d70",
   "metadata": {},
   "outputs": [],
   "source": [
    "data_filled_forward = data.fillna(method=\"ffill\")"
   ]
  },
  {
   "cell_type": "code",
   "execution_count": null,
   "id": "e9c35ffc",
   "metadata": {},
   "outputs": [],
   "source": [
    "plt.figure(figsize=(10, 2))\n",
    "plt.plot(data[\"glucose\"], lw=1, marker=\"o\", ls=\"\")\n",
    "plt.plot(data_filled_forward.index, data_filled_forward[\"glucose\"], lw=1, ms=4, marker=\".\", color=\"red\")\n",
    "plt.xlabel(\"Minute\")\n",
    "plt.ylabel(\"Inferred Glucose\");"
   ]
  },
  {
   "cell_type": "markdown",
   "id": "8aeddb03",
   "metadata": {},
   "source": [
    "## 3.2) Backward-Filling Method"
   ]
  },
  {
   "cell_type": "code",
   "execution_count": null,
   "id": "18248fa9",
   "metadata": {},
   "outputs": [],
   "source": [
    "data_filled_backward = data.fillna(method=\"bfill\")"
   ]
  },
  {
   "cell_type": "code",
   "execution_count": null,
   "id": "ce0620cd",
   "metadata": {},
   "outputs": [],
   "source": [
    "plt.figure(figsize=(10, 2))\n",
    "plt.plot(data[\"glucose\"], lw=1, marker=\"o\", ls=\"\")\n",
    "plt.plot(data_filled_backward.index, data_filled_backward[\"glucose\"],lw=1, ms=4, marker=\".\", color=\"red\")\n",
    "plt.xlabel(\"Minute\")\n",
    "plt.ylabel(\"Inferred Glucose\");"
   ]
  },
  {
   "cell_type": "markdown",
   "id": "236c1052",
   "metadata": {},
   "source": [
    "## 3.3) Central tendency "
   ]
  },
  {
   "cell_type": "code",
   "execution_count": null,
   "id": "07f41dad",
   "metadata": {},
   "outputs": [],
   "source": [
    "mean_val = data[\"glucose\"].mean()\n",
    "data_mean_imputed = data[\"glucose\"].fillna(mean_val)"
   ]
  },
  {
   "cell_type": "code",
   "execution_count": null,
   "id": "4dd8772b",
   "metadata": {},
   "outputs": [],
   "source": [
    "plt.figure(figsize=(10, 2))\n",
    "plt.plot(data[\"glucose\"], lw=1, marker=\"o\", ls=\"\")\n",
    "plt.plot(data.index, data_mean_imputed,lw=1, ms=4, marker=\".\", color=\"red\")\n",
    "plt.axhline(mean_val, lw=1, alpha=0.5)\n",
    "plt.xlabel(\"Minute\")\n",
    "plt.ylabel(\"Inferred Glucose\")"
   ]
  },
  {
   "cell_type": "markdown",
   "id": "a44de7ce",
   "metadata": {},
   "source": [
    "## 3.4) Moving average"
   ]
  },
  {
   "cell_type": "code",
   "execution_count": null,
   "id": "5cddc739",
   "metadata": {},
   "outputs": [],
   "source": [
    "window_size = 24 # <-- \n",
    "data_ma_interpolated = data[\"glucose\"].copy()\n",
    "data_ma_interpolated = data_ma_interpolated.fillna(\n",
    "    data_ma_interpolated.rolling(window=window_size, min_periods=1, center=True).mean())"
   ]
  },
  {
   "cell_type": "code",
   "execution_count": null,
   "id": "9524d598",
   "metadata": {},
   "outputs": [],
   "source": [
    "plt.figure(figsize=(10, 2))\n",
    "plt.plot(data[\"glucose\"], lw=1, marker=\"o\", ls=\"\")\n",
    "plt.plot(data.index, data_ma_interpolated, lw=1, ms=4, marker=\".\", color=\"red\")\n",
    "plt.xlabel(\"Minute\")\n",
    "plt.ylabel(\"Inferred Glucose\");"
   ]
  },
  {
   "cell_type": "markdown",
   "id": "d1035c0e",
   "metadata": {},
   "source": [
    "## 3.5) k-Nearest Neighbors"
   ]
  },
  {
   "cell_type": "code",
   "execution_count": null,
   "id": "db9d92c6",
   "metadata": {},
   "outputs": [],
   "source": [
    "from sklearn.impute import KNNImputer"
   ]
  },
  {
   "cell_type": "code",
   "execution_count": null,
   "id": "38c68a7b",
   "metadata": {},
   "outputs": [],
   "source": [
    "imputer = KNNImputer(n_neighbors=10)\n",
    "data_knn_imputed = pd.DataFrame(imputer.fit_transform(data), columns=data.columns, index=data.index)"
   ]
  },
  {
   "cell_type": "code",
   "execution_count": null,
   "id": "afb6bb5f",
   "metadata": {},
   "outputs": [],
   "source": [
    "plt.figure(figsize=(10, 2))\n",
    "plt.plot(data[\"glucose\"], lw=1, marker=\"o\", ls=\"\")\n",
    "plt.plot(data_knn_imputed.index, data_knn_imputed[\"glucose\"], lw=1, ms=4, marker=\".\", color=\"red\")\n",
    "plt.xlabel(\"Minute\")\n",
    "plt.ylabel(\"Inferred Glucose\");"
   ]
  },
  {
   "cell_type": "markdown",
   "id": "6e378cf2",
   "metadata": {},
   "source": [
    "## 3.6) Interpolation"
   ]
  },
  {
   "cell_type": "markdown",
   "id": "f380ae20",
   "metadata": {},
   "source": [
    "### 3.3.1) Nearest interpolation"
   ]
  },
  {
   "cell_type": "code",
   "execution_count": null,
   "id": "bc116231",
   "metadata": {},
   "outputs": [],
   "source": [
    "data_nearest_interpolated = data.interpolate(method=\"nearest\")"
   ]
  },
  {
   "cell_type": "code",
   "execution_count": null,
   "id": "dc261bb9",
   "metadata": {
    "scrolled": false
   },
   "outputs": [],
   "source": [
    "plt.figure(figsize=(10, 2))\n",
    "plt.plot(data[\"glucose\"], lw=1, marker=\"o\", ls=\"\")\n",
    "plt.plot(data_nearest_interpolated.index, data_nearest_interpolated[\"glucose\"], lw=1, ms=4, marker=\".\", color=\"red\")\n",
    "plt.xlabel(\"Minute\")\n",
    "plt.ylabel(\"Inferred Glucose\");"
   ]
  },
  {
   "cell_type": "markdown",
   "id": "907b7159",
   "metadata": {},
   "source": [
    "### 3.3.2) Linear interpolation"
   ]
  },
  {
   "cell_type": "code",
   "execution_count": null,
   "id": "10565c6b",
   "metadata": {},
   "outputs": [],
   "source": [
    "data_interpolated = data.interpolate(method=\"linear\")"
   ]
  },
  {
   "cell_type": "code",
   "execution_count": null,
   "id": "62daf814",
   "metadata": {
    "scrolled": true
   },
   "outputs": [],
   "source": [
    "plt.figure(figsize=(10, 2))\n",
    "plt.plot(data[\"glucose\"], lw=1, marker=\"o\", ls=\"\")\n",
    "plt.plot(data_interpolated.index, data_interpolated[\"glucose\"], lw=1, ms=4, marker=\".\", color=\"red\")\n",
    "plt.xlabel(\"Minute\")\n",
    "plt.ylabel(\"Inferred Glucose\");"
   ]
  },
  {
   "cell_type": "markdown",
   "id": "1ee51355",
   "metadata": {},
   "source": [
    "### 3.3.3) Quadratic interpolation"
   ]
  },
  {
   "cell_type": "code",
   "execution_count": null,
   "id": "1c2cf8a2",
   "metadata": {},
   "outputs": [],
   "source": [
    "data_quadratic_interpolated = data.interpolate(method=\"quadratic\")"
   ]
  },
  {
   "cell_type": "code",
   "execution_count": null,
   "id": "e0421eb0",
   "metadata": {
    "scrolled": false
   },
   "outputs": [],
   "source": [
    "plt.figure(figsize=(10, 2))\n",
    "plt.plot(data[\"glucose\"], lw=1, marker=\"o\", ls=\"\")\n",
    "plt.plot(data_quadratic_interpolated.index, data_quadratic_interpolated[\"glucose\"], lw=1, ms=4, marker=\".\", color=\"red\")\n",
    "plt.xlabel(\"Minute\")\n",
    "plt.ylabel(\"Inferred Glucose\");"
   ]
  },
  {
   "cell_type": "markdown",
   "id": "bbe9adb6",
   "metadata": {},
   "source": [
    "### 3.3.4) Polynomial interpolation"
   ]
  },
  {
   "cell_type": "code",
   "execution_count": null,
   "id": "35d80be2",
   "metadata": {},
   "outputs": [],
   "source": [
    "data_polynomial_interpolated = data.interpolate(method=\"polynomial\", order=3)"
   ]
  },
  {
   "cell_type": "code",
   "execution_count": null,
   "id": "81fd9add",
   "metadata": {
    "scrolled": true
   },
   "outputs": [],
   "source": [
    "plt.figure(figsize=(10, 2))\n",
    "plt.plot(data[\"glucose\"], lw=1, marker=\"o\", ls=\"\")\n",
    "plt.plot(data_polynomial_interpolated.index, data_polynomial_interpolated[\"glucose\"], lw=1, ms=4, marker=\".\", color=\"red\")\n",
    "plt.xlabel(\"Minute\")\n",
    "plt.ylabel(\"Inferred Glucose\");"
   ]
  },
  {
   "cell_type": "markdown",
   "id": "76433ecd",
   "metadata": {},
   "source": [
    "### 3.3.5) Spline interpolation"
   ]
  },
  {
   "cell_type": "code",
   "execution_count": null,
   "id": "f946d4cd",
   "metadata": {},
   "outputs": [],
   "source": [
    "data_spline_interpolated = data.interpolate(method=\"spline\", order=2)"
   ]
  },
  {
   "cell_type": "code",
   "execution_count": null,
   "id": "e558568a",
   "metadata": {
    "scrolled": true
   },
   "outputs": [],
   "source": [
    "plt.figure(figsize=(10, 2))\n",
    "plt.plot(data[\"glucose\"], lw=1, marker=\"o\", ls=\"\")\n",
    "plt.plot(data_spline_interpolated.index, data_spline_interpolated[\"glucose\"], lw=1, ms=4, marker=\".\", color=\"red\")\n",
    "plt.xlabel(\"Minute\")\n",
    "plt.ylabel(\"Inferred Glucose\");"
   ]
  },
  {
   "cell_type": "markdown",
   "id": "db9639a5",
   "metadata": {},
   "source": [
    "## 3.4) Trend and Seasonal Decomposition"
   ]
  },
  {
   "cell_type": "markdown",
   "id": "07e2ff6c",
   "metadata": {},
   "source": [
    "### Our goal here is to impute missing values without breaking the seasonal structure of the time series. ✨"
   ]
  },
  {
   "cell_type": "markdown",
   "id": "e40305a0",
   "metadata": {},
   "source": [
    "For this one, let's use the whole data, as we can learn about trend and seasonal components. "
   ]
  },
  {
   "cell_type": "code",
   "execution_count": null,
   "id": "74cd1ed5",
   "metadata": {},
   "outputs": [],
   "source": [
    "whole_data['15min_bin'] = pd.to_datetime(whole_data['15min_bin'])\n",
    "whole_data_copy = whole_data.copy()\n",
    "whole_data.head()"
   ]
  },
  {
   "cell_type": "code",
   "execution_count": null,
   "id": "b775d164",
   "metadata": {},
   "outputs": [],
   "source": [
    "plt.figure(figsize=(15, 2))\n",
    "plt.plot(whole_data_copy['15min_bin'], whole_data_copy['glucose'], linestyle='-', lw=1)\n",
    "plt.xlabel(\"Time\")\n",
    "plt.ylabel(\"Glucose\");"
   ]
  },
  {
   "cell_type": "code",
   "execution_count": null,
   "id": "66f76ccb",
   "metadata": {},
   "outputs": [],
   "source": [
    "imputed_indices = whole_data_copy[whole_data_copy['glucose'].isnull()].index"
   ]
  },
  {
   "cell_type": "markdown",
   "id": "746b3734",
   "metadata": {},
   "source": [
    "In order for us to decompose our time series, let's do an initial interpolation:"
   ]
  },
  {
   "cell_type": "code",
   "execution_count": null,
   "id": "80466a35",
   "metadata": {},
   "outputs": [],
   "source": [
    "interpolated = whole_data_copy['glucose'].interpolate(method='linear')"
   ]
  },
  {
   "cell_type": "code",
   "execution_count": null,
   "id": "ee58d081",
   "metadata": {},
   "outputs": [],
   "source": [
    "from statsmodels.tsa.seasonal import STL"
   ]
  },
  {
   "cell_type": "markdown",
   "id": "263df029",
   "metadata": {},
   "source": [
    "The `period` parameter tells the model how many observations make up one full seasonal cycle in your data."
   ]
  },
  {
   "cell_type": "code",
   "execution_count": null,
   "id": "12bdfe8c",
   "metadata": {},
   "outputs": [],
   "source": [
    "decomposition = STL(interpolated, period=24*4) # each 24 hours has 24*4 15 minutes. \n",
    "decomposition_result = decomposition.fit()"
   ]
  },
  {
   "cell_type": "markdown",
   "id": "f1f2da23",
   "metadata": {},
   "source": [
    "We wil use STL (Seasonal-Trend decomposition using Loess). \n",
    "\n",
    "STL breaks a time series into:\n",
    "* Trend (long-term movement)\n",
    "* Seasonal (repeating cycles)\n",
    "* Residual (what’s left)\n",
    "\n",
    "This will give us the repeating pattern (e.g., if glucose levels cycle every day, this captures that daily cycle) in the series."
   ]
  },
  {
   "cell_type": "code",
   "execution_count": null,
   "id": "922f3a98",
   "metadata": {},
   "outputs": [],
   "source": [
    "# decomposition_result.plot()"
   ]
  },
  {
   "cell_type": "markdown",
   "id": "7a48161b",
   "metadata": {},
   "source": [
    "<b>The goal here is to interpolate only the \"non-seasonal\" part of our time series.</b> 🫡\n",
    "\n",
    "For that, we first remove the seasonality of our data: "
   ]
  },
  {
   "cell_type": "code",
   "execution_count": null,
   "id": "6ed27899",
   "metadata": {},
   "outputs": [],
   "source": [
    "seasonal = decomposition_result.seasonal\n",
    "deseasonalized = whole_data_copy['glucose'] - seasonal"
   ]
  },
  {
   "cell_type": "markdown",
   "id": "16f67f58",
   "metadata": {},
   "source": [
    "Then, we interpolate what it is left in the series:"
   ]
  },
  {
   "cell_type": "code",
   "execution_count": null,
   "id": "86a34e1d",
   "metadata": {},
   "outputs": [],
   "source": [
    "deseasonalized_imputed = deseasonalized.interpolate(method='linear')"
   ]
  },
  {
   "cell_type": "markdown",
   "id": "765ea69c",
   "metadata": {},
   "source": [
    "Finally, we put the seasonality back to the time series: "
   ]
  },
  {
   "cell_type": "code",
   "execution_count": null,
   "id": "18c14416",
   "metadata": {},
   "outputs": [],
   "source": [
    "final_imputed = deseasonalized_imputed + seasonal"
   ]
  },
  {
   "cell_type": "markdown",
   "id": "71a5fae2",
   "metadata": {},
   "source": [
    "### Great success 🥸! \n",
    "\n",
    "Next, we only impute where we have `NaN`:"
   ]
  },
  {
   "cell_type": "code",
   "execution_count": null,
   "id": "ec208ecb",
   "metadata": {},
   "outputs": [],
   "source": [
    "whole_data_copy.loc[imputed_indices, 'glucose'] = final_imputed.loc[imputed_indices]"
   ]
  },
  {
   "cell_type": "markdown",
   "id": "1300ee8f",
   "metadata": {},
   "source": [
    "And here we have it: "
   ]
  },
  {
   "cell_type": "code",
   "execution_count": null,
   "id": "20646be2",
   "metadata": {},
   "outputs": [],
   "source": [
    "plt.figure(figsize=(10, 2))\n",
    "plt.plot(whole_data['15min_bin'], whole_data['glucose'], linestyle='-', lw=1)\n",
    "\n",
    "# only the imputed\n",
    "plt.plot(whole_data_copy.loc[imputed_indices, '15min_bin'], \n",
    "         whole_data_copy.loc[imputed_indices, 'glucose'], ms=1, lw=0, marker=\"o\", color='red')\n",
    "plt.xlabel(\"Time\")\n",
    "plt.ylabel(\"Glucose\");"
   ]
  },
  {
   "cell_type": "markdown",
   "id": "ccdbf76d",
   "metadata": {},
   "source": [
    "<div class=\"alert alert-info\">\n",
    "  <strong>Assignment 1:</strong> How well did it perform? Create synthetic missing values in the data and compare the imputed values to the original.\n",
    "</div>"
   ]
  },
  {
   "cell_type": "markdown",
   "id": "97d04e68",
   "metadata": {},
   "source": [
    "<div class=\"alert alert-info\">\n",
    " <strong>Assignment 2:</strong> We used linear method to interpolate. How about other methods? Use different methods to interpolate and compare their performance, using synthetic missing values. \n",
    "</div>"
   ]
  },
  {
   "cell_type": "markdown",
   "id": "633496f4",
   "metadata": {},
   "source": [
    "### Oh wait, let's now check how that particular day looks like 🤓"
   ]
  },
  {
   "cell_type": "code",
   "execution_count": null,
   "id": "8bc10cb5",
   "metadata": {},
   "outputs": [],
   "source": [
    "check_that_one_day = whole_data_copy[(whole_data_copy['15min_bin']>='2019-08-04')&(whole_data_copy['15min_bin']<'2019-08-05')].copy()"
   ]
  },
  {
   "cell_type": "code",
   "execution_count": null,
   "id": "eaf3486d",
   "metadata": {},
   "outputs": [],
   "source": [
    "plt.figure(figsize=(10, 2))\n",
    "plt.plot(data[\"glucose\"], lw=1, marker=\"o\", ls=\"\")\n",
    "plt.plot(data_interpolated.index, check_that_one_day[\"glucose\"], lw=1, ms=4, marker=\".\", color=\"red\")\n",
    "plt.xlabel(\"Minute\")\n",
    "plt.ylabel(\"Inferred Glucose\");"
   ]
  },
  {
   "cell_type": "markdown",
   "id": "de0bf812",
   "metadata": {},
   "source": [
    "<div class=\"alert alert-info\">\n",
    " <strong>Assignment 4:</strong> How does Trend and Seasonal Decomposition method compare with the other methods? \n",
    "</div>"
   ]
  },
  {
   "cell_type": "markdown",
   "id": "a9fd9680",
   "metadata": {},
   "source": [
    "## 3.5) Prophet 🔮🧙‍♂️🧙🏻‍♀️"
   ]
  },
  {
   "cell_type": "code",
   "execution_count": null,
   "id": "c3eca9b7",
   "metadata": {},
   "outputs": [],
   "source": [
    "from prophet import Prophet"
   ]
  },
  {
   "cell_type": "code",
   "execution_count": null,
   "id": "7c560528",
   "metadata": {},
   "outputs": [],
   "source": [
    "df_prophet = whole_data[['15min_bin', 'glucose']].copy()\n",
    "df_prophet = df_prophet.rename(columns={'15min_bin': 'ds', 'glucose': 'y'})"
   ]
  },
  {
   "cell_type": "code",
   "execution_count": null,
   "id": "7381d6f7",
   "metadata": {},
   "outputs": [],
   "source": [
    "df_prophet.head()"
   ]
  },
  {
   "cell_type": "markdown",
   "id": "e970b4a3",
   "metadata": {},
   "source": [
    "We use observed values for training."
   ]
  },
  {
   "cell_type": "code",
   "execution_count": null,
   "id": "456413fa",
   "metadata": {},
   "outputs": [],
   "source": [
    "train_df = df_prophet[df_prophet['y'].notna()]"
   ]
  },
  {
   "cell_type": "code",
   "execution_count": null,
   "id": "2a17c03e",
   "metadata": {},
   "outputs": [],
   "source": [
    "model = Prophet(\n",
    "    interval_width=0.9, \n",
    "    seasonality_mode='multiplicative',\n",
    "    changepoint_prior_scale=0.7,  # default: 0.05; higher if trend series changes fast\n",
    "    n_changepoints=50, # default: 25; number of potential locations the model looks for trend changes.\n",
    "    daily_seasonality=True, \n",
    "    weekly_seasonality=False)"
   ]
  },
  {
   "cell_type": "code",
   "execution_count": null,
   "id": "031bdf73",
   "metadata": {},
   "outputs": [],
   "source": [
    "model.fit(train_df)"
   ]
  },
  {
   "cell_type": "code",
   "execution_count": null,
   "id": "f46ced12",
   "metadata": {},
   "outputs": [],
   "source": [
    "full_dates = pd.DataFrame({'ds': df_prophet['ds']})"
   ]
  },
  {
   "cell_type": "code",
   "execution_count": null,
   "id": "15b84406",
   "metadata": {},
   "outputs": [],
   "source": [
    "forecast = model.predict(full_dates)\n",
    "df_prophet['yhat'] = forecast['yhat']"
   ]
  },
  {
   "cell_type": "markdown",
   "id": "b80a8aa7",
   "metadata": {},
   "source": [
    "Impute only missing values:"
   ]
  },
  {
   "cell_type": "code",
   "execution_count": null,
   "id": "c97dd9fa",
   "metadata": {},
   "outputs": [],
   "source": [
    "df_prophet['y_imputed'] = df_prophet['y']\n",
    "df_prophet.loc[df_prophet['y'].isna(), 'y_imputed'] = df_prophet.loc[df_prophet['y'].isna(), 'yhat']"
   ]
  },
  {
   "cell_type": "code",
   "execution_count": null,
   "id": "3b117ed7",
   "metadata": {},
   "outputs": [],
   "source": [
    "df_prophet.head()"
   ]
  },
  {
   "cell_type": "code",
   "execution_count": null,
   "id": "c1de5dd6",
   "metadata": {},
   "outputs": [],
   "source": [
    "check_that_one_day_prophet = df_prophet[(df_prophet['ds']>='2019-08-04')&(df_prophet['ds']<'2019-08-05')].copy()"
   ]
  },
  {
   "cell_type": "code",
   "execution_count": null,
   "id": "6915d57f",
   "metadata": {},
   "outputs": [],
   "source": [
    "plt.figure(figsize=(10, 2))\n",
    "plt.plot(data[\"glucose\"], lw=1, marker=\"o\", ls=\"\")\n",
    "plt.plot(data[\"glucose\"].index, check_that_one_day_prophet[\"y_imputed\"], lw=1, ms=4, marker=\".\", color=\"red\")\n",
    "plt.plot(data[\"glucose\"].index, check_that_one_day_prophet[\"yhat\"], lw=1, ms=4, marker=\".\", color=\"gray\", alpha=0.4)\n",
    "plt.xlabel(\"Minute\")\n",
    "plt.ylabel(\"Inferred Glucose\");"
   ]
  },
  {
   "cell_type": "code",
   "execution_count": null,
   "id": "4deeb7b2",
   "metadata": {},
   "outputs": [],
   "source": [
    "plt.figure(figsize=(10, 2))\n",
    "plt.plot(whole_data['15min_bin'], whole_data['glucose'], linestyle='-', lw=1)\n",
    "plt.plot(whole_data['15min_bin'], df_prophet['yhat'], linestyle='-', lw=1)\n",
    "\n",
    "\n",
    "# only the imputed\n",
    "plt.plot(whole_data_copy.loc[imputed_indices, '15min_bin'], \n",
    "         df_prophet.loc[imputed_indices, 'yhat'], ms=1, lw=0, marker=\"o\", color='red')\n",
    "plt.xlabel(\"Time\")\n",
    "plt.ylabel(\"Glucose\");"
   ]
  },
  {
   "cell_type": "markdown",
   "id": "2287fbed",
   "metadata": {},
   "source": [
    "### Let's see some synthetic data"
   ]
  },
  {
   "cell_type": "code",
   "execution_count": null,
   "id": "543ab7c2",
   "metadata": {},
   "outputs": [],
   "source": [
    "import numpy as np"
   ]
  },
  {
   "cell_type": "code",
   "execution_count": null,
   "id": "329ed3e4",
   "metadata": {},
   "outputs": [],
   "source": [
    "periods = 96 * 20  # 20 days, 96 points/day (15-min intervals)\n",
    "time = pd.date_range(start='2025-01-01', periods=periods, freq='15min')\n",
    "t = np.arange(periods)\n",
    "\n",
    "amplitude = 1 + 0.5 * np.sin(2 * np.pi * t / (96 * 5))  # changes every 5 days\n",
    "\n",
    "circadian = amplitude * np.sin(2 * np.pi * (t % 96) / 96)\n",
    "trend = 0.002 * t\n",
    "noise = np.random.normal(0, 0.1, periods)  # <-- \n",
    "\n",
    "y = 6 + circadian + trend + noise\n",
    "df = pd.DataFrame({'ds': time, 'y': y, 'y_full': y})"
   ]
  },
  {
   "cell_type": "markdown",
   "id": "7718f3d5",
   "metadata": {},
   "source": [
    "We remove chunks of data: "
   ]
  },
  {
   "cell_type": "code",
   "execution_count": null,
   "id": "3a27e2e3",
   "metadata": {},
   "outputs": [],
   "source": [
    "missing_chunks = [(1000, 1100), (400, 500), (1200, 1300)]\n",
    "for start, end in missing_chunks:\n",
    "    df.loc[start:end, 'y'] = np.nan"
   ]
  },
  {
   "cell_type": "markdown",
   "id": "402c833e",
   "metadata": {},
   "source": [
    "and also remove random data points:"
   ]
  },
  {
   "cell_type": "code",
   "execution_count": null,
   "id": "6b5d7fa6",
   "metadata": {},
   "outputs": [],
   "source": [
    "df.loc[np.random.randint(len(df), size=100), \"y\"] = None"
   ]
  },
  {
   "cell_type": "code",
   "execution_count": null,
   "id": "a1938d63",
   "metadata": {},
   "outputs": [],
   "source": [
    "plt.figure(figsize=(14, 3))\n",
    "plt.plot(df['ds'], df['y'], marker='o', linestyle='None', alpha=1, ms=2)\n",
    "for ts in df[df['y'].isna()]['ds']:\n",
    "    plt.axvline(x=ts, color='red', alpha=0.2, linewidth=0.5)\n",
    "    \n",
    "plt.xlabel(\"Time\")\n",
    "plt.ylabel(\"Value\");"
   ]
  },
  {
   "cell_type": "code",
   "execution_count": null,
   "id": "14579dc4",
   "metadata": {},
   "outputs": [],
   "source": [
    "model = Prophet(daily_seasonality=True, changepoint_prior_scale=0.3, seasonality_mode='multiplicative')"
   ]
  },
  {
   "cell_type": "code",
   "execution_count": null,
   "id": "4d993171",
   "metadata": {},
   "outputs": [],
   "source": [
    "model.fit(df[df['y'].notna()])"
   ]
  },
  {
   "cell_type": "code",
   "execution_count": null,
   "id": "08410443",
   "metadata": {},
   "outputs": [],
   "source": [
    "future = df[['ds']]\n",
    "forecast = model.predict(future)"
   ]
  },
  {
   "cell_type": "code",
   "execution_count": null,
   "id": "926a78a4",
   "metadata": {},
   "outputs": [],
   "source": [
    "df['y_imputed'] = df['y']\n",
    "df.loc[df['y'].isna(), 'y_imputed'] = forecast.loc[df['y'].isna(), 'yhat']"
   ]
  },
  {
   "cell_type": "code",
   "execution_count": null,
   "id": "8051e1e5",
   "metadata": {},
   "outputs": [],
   "source": [
    "plt.figure(figsize=(14, 3))\n",
    "plt.plot(df['ds'], df['y'], marker='o', linestyle='None', alpha=1, ms=2)\n",
    "plt.plot(df[df['y'].isna()]['ds'], df[df['y'].isna()]['y_imputed'], color='red', ls=\"\", marker=\"o\", ms=2)    \n",
    "plt.xlabel(\"Time\")\n",
    "plt.ylabel(\"Value\");"
   ]
  },
  {
   "cell_type": "code",
   "execution_count": null,
   "id": "1b36c4ba",
   "metadata": {},
   "outputs": [],
   "source": [
    "plt.figure(figsize=(14, 3))\n",
    "plt.plot(df['ds'], df['y_full'], linestyle='-', alpha=1)\n",
    "\n",
    "plt.plot(df[df['y'].isna()]['ds'], df[df['y'].isna()]['y_imputed'], color='red', ls=\"\", marker=\"o\", ms=2, alpha=0.5)    \n",
    "\n",
    "plt.xlabel(\"Time\")\n",
    "plt.ylabel(\"Value\");"
   ]
  },
  {
   "cell_type": "markdown",
   "id": "e49954ff",
   "metadata": {},
   "source": [
    "<div class=\"alert alert-info\">\n",
    " <strong>Assignment 5:</strong> How well does Trend and Seasonal Decomposition perform with this synthetic data set? \n",
    "</div>"
   ]
  }
 ],
 "metadata": {
  "kernelspec": {
   "display_name": "Python 3 (ipykernel)",
   "language": "python",
   "name": "python3"
  },
  "language_info": {
   "codemirror_mode": {
    "name": "ipython",
    "version": 3
   },
   "file_extension": ".py",
   "mimetype": "text/x-python",
   "name": "python",
   "nbconvert_exporter": "python",
   "pygments_lexer": "ipython3",
   "version": "3.10.9"
  }
 },
 "nbformat": 4,
 "nbformat_minor": 5
}
