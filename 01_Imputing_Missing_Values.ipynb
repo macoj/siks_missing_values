{
 "cells": [
  {
   "cell_type": "code",
   "execution_count": 1,
   "id": "02030907",
   "metadata": {},
   "outputs": [],
   "source": [
    "%config InlineBackend.figure_format = 'retina'"
   ]
  },
  {
   "cell_type": "code",
   "execution_count": 2,
   "id": "5df019e6",
   "metadata": {},
   "outputs": [],
   "source": [
    "import pandas as pd"
   ]
  },
  {
   "cell_type": "code",
   "execution_count": 3,
   "id": "ad455421",
   "metadata": {},
   "outputs": [],
   "source": [
    "import matplotlib.pyplot as plt"
   ]
  },
  {
   "cell_type": "code",
   "execution_count": 4,
   "id": "d74313ef",
   "metadata": {},
   "outputs": [],
   "source": [
    "import numpy as np"
   ]
  },
  {
   "cell_type": "markdown",
   "id": "fb09d97b",
   "metadata": {},
   "source": [
    "<div class=\"alert alert-danger\">\n",
    "  You must have MissForest package: <br>\n",
    "   ! pip install MissForest <br>\n",
    "   ! pip install lightgbm\n",
    "</div>"
   ]
  },
  {
   "cell_type": "markdown",
   "id": "c395219f",
   "metadata": {},
   "source": [
    "# 1) Loading data"
   ]
  },
  {
   "cell_type": "code",
   "execution_count": 5,
   "id": "fe14c559",
   "metadata": {},
   "outputs": [],
   "source": [
    "url = 'https://raw.githubusercontent.com/SaravananJaichandar/Credit-Risk-Model/refs/heads/master/german_credit_data.csv'\n",
    "df = pd.read_csv(url, header=0, names = ['Index', 'Age', 'Sex', 'Job', 'Housing', 'Saving accounts',\n",
    "       'Checking account', 'Credit amount', 'Duration', 'Purpose'])\n",
    "df = df.iloc[:, 1:]\n",
    "\n",
    "job_mapping = {0: 'unemployed/unskilled', 1: 'unskilled', 2: 'skilled', 3: 'highly skilled'}\n",
    "\n",
    "df['Job'] = df['Job'].map(job_mapping).astype('object')"
   ]
  },
  {
   "cell_type": "markdown",
   "id": "72a37179",
   "metadata": {},
   "source": [
    "The **German Credit Data** dataset contains information about individuals and their financial background, used to determine their **creditworthiness**. It includes both **numerical** and **categorical** features related to personal characteristics, financial status, and loan information. \n",
    "\n",
    "<b>Features</b>\n",
    "\n",
    "- `Age`: Age of the individual (numeric).\n",
    "- `Sex`: Gender of the individual (`male` or `female`).\n",
    "- `Job`: Job category (0 = unemployed/unskilled, 1 = unskilled, 2 = skilled, 3 = highly skilled).\n",
    "- `Housing`: Housing status (`own`, `rent`, or `free`).\n",
    "- `Saving accounts`: Category indicating amount in savings account (`little`, `moderate`, `quite rich`, `rich`, or `NaN`).\n",
    "- `Checking account`: Category indicating balance in checking account (`little`, `moderate`, `rich`, or `NaN`).\n",
    "- `Credit amount`: Amount of the loan requested (numeric).\n",
    "- `Duration`: Duration of the loan in months (numeric).\n",
    "- `Purpose`: Reason for the loan (`car`, `furniture/equipment`, `radio/TV`, `education`, `business`, etc.)."
   ]
  },
  {
   "cell_type": "code",
   "execution_count": 6,
   "id": "5029b31c",
   "metadata": {},
   "outputs": [
    {
     "name": "stdout",
     "output_type": "stream",
     "text": [
      "<class 'pandas.core.frame.DataFrame'>\n",
      "RangeIndex: 1000 entries, 0 to 999\n",
      "Data columns (total 9 columns):\n",
      " #   Column            Non-Null Count  Dtype \n",
      "---  ------            --------------  ----- \n",
      " 0   Age               1000 non-null   int64 \n",
      " 1   Sex               1000 non-null   object\n",
      " 2   Job               1000 non-null   object\n",
      " 3   Housing           1000 non-null   object\n",
      " 4   Saving accounts   817 non-null    object\n",
      " 5   Checking account  606 non-null    object\n",
      " 6   Credit amount     1000 non-null   int64 \n",
      " 7   Duration          1000 non-null   int64 \n",
      " 8   Purpose           1000 non-null   object\n",
      "dtypes: int64(3), object(6)\n",
      "memory usage: 70.4+ KB\n"
     ]
    }
   ],
   "source": [
    "df.info()"
   ]
  },
  {
   "cell_type": "code",
   "execution_count": 7,
   "id": "136f310d",
   "metadata": {},
   "outputs": [
    {
     "data": {
      "text/html": [
       "<div>\n",
       "<style scoped>\n",
       "    .dataframe tbody tr th:only-of-type {\n",
       "        vertical-align: middle;\n",
       "    }\n",
       "\n",
       "    .dataframe tbody tr th {\n",
       "        vertical-align: top;\n",
       "    }\n",
       "\n",
       "    .dataframe thead th {\n",
       "        text-align: right;\n",
       "    }\n",
       "</style>\n",
       "<table border=\"1\" class=\"dataframe\">\n",
       "  <thead>\n",
       "    <tr style=\"text-align: right;\">\n",
       "      <th></th>\n",
       "      <th>Age</th>\n",
       "      <th>Sex</th>\n",
       "      <th>Job</th>\n",
       "      <th>Housing</th>\n",
       "      <th>Saving accounts</th>\n",
       "      <th>Checking account</th>\n",
       "      <th>Credit amount</th>\n",
       "      <th>Duration</th>\n",
       "      <th>Purpose</th>\n",
       "    </tr>\n",
       "  </thead>\n",
       "  <tbody>\n",
       "    <tr>\n",
       "      <th>0</th>\n",
       "      <td>67</td>\n",
       "      <td>male</td>\n",
       "      <td>skilled</td>\n",
       "      <td>own</td>\n",
       "      <td>NaN</td>\n",
       "      <td>little</td>\n",
       "      <td>1169</td>\n",
       "      <td>6</td>\n",
       "      <td>radio/TV</td>\n",
       "    </tr>\n",
       "    <tr>\n",
       "      <th>1</th>\n",
       "      <td>22</td>\n",
       "      <td>female</td>\n",
       "      <td>skilled</td>\n",
       "      <td>own</td>\n",
       "      <td>little</td>\n",
       "      <td>moderate</td>\n",
       "      <td>5951</td>\n",
       "      <td>48</td>\n",
       "      <td>radio/TV</td>\n",
       "    </tr>\n",
       "    <tr>\n",
       "      <th>2</th>\n",
       "      <td>49</td>\n",
       "      <td>male</td>\n",
       "      <td>unskilled</td>\n",
       "      <td>own</td>\n",
       "      <td>little</td>\n",
       "      <td>NaN</td>\n",
       "      <td>2096</td>\n",
       "      <td>12</td>\n",
       "      <td>education</td>\n",
       "    </tr>\n",
       "    <tr>\n",
       "      <th>3</th>\n",
       "      <td>45</td>\n",
       "      <td>male</td>\n",
       "      <td>skilled</td>\n",
       "      <td>free</td>\n",
       "      <td>little</td>\n",
       "      <td>little</td>\n",
       "      <td>7882</td>\n",
       "      <td>42</td>\n",
       "      <td>furniture/equipment</td>\n",
       "    </tr>\n",
       "    <tr>\n",
       "      <th>4</th>\n",
       "      <td>53</td>\n",
       "      <td>male</td>\n",
       "      <td>skilled</td>\n",
       "      <td>free</td>\n",
       "      <td>little</td>\n",
       "      <td>little</td>\n",
       "      <td>4870</td>\n",
       "      <td>24</td>\n",
       "      <td>car</td>\n",
       "    </tr>\n",
       "  </tbody>\n",
       "</table>\n",
       "</div>"
      ],
      "text/plain": [
       "   Age     Sex        Job Housing Saving accounts Checking account  \\\n",
       "0   67    male    skilled     own             NaN           little   \n",
       "1   22  female    skilled     own          little         moderate   \n",
       "2   49    male  unskilled     own          little              NaN   \n",
       "3   45    male    skilled    free          little           little   \n",
       "4   53    male    skilled    free          little           little   \n",
       "\n",
       "   Credit amount  Duration              Purpose  \n",
       "0           1169         6             radio/TV  \n",
       "1           5951        48             radio/TV  \n",
       "2           2096        12            education  \n",
       "3           7882        42  furniture/equipment  \n",
       "4           4870        24                  car  "
      ]
     },
     "execution_count": 7,
     "metadata": {},
     "output_type": "execute_result"
    }
   ],
   "source": [
    "df.head()"
   ]
  },
  {
   "cell_type": "markdown",
   "id": "d24d99fb",
   "metadata": {},
   "source": [
    "Let's introduce some more `NaN` into the data, randomly. "
   ]
  },
  {
   "cell_type": "code",
   "execution_count": 8,
   "id": "287c3978",
   "metadata": {},
   "outputs": [],
   "source": [
    "df.loc[np.random.randint(1000, size=20),\"Age\"] = None\n",
    "df.loc[np.random.randint(1000, size=20),\"Credit amount\"] = None"
   ]
  },
  {
   "cell_type": "code",
   "execution_count": 9,
   "id": "d13b3693",
   "metadata": {},
   "outputs": [
    {
     "name": "stdout",
     "output_type": "stream",
     "text": [
      "<class 'pandas.core.frame.DataFrame'>\n",
      "RangeIndex: 1000 entries, 0 to 999\n",
      "Data columns (total 9 columns):\n",
      " #   Column            Non-Null Count  Dtype  \n",
      "---  ------            --------------  -----  \n",
      " 0   Age               980 non-null    float64\n",
      " 1   Sex               1000 non-null   object \n",
      " 2   Job               1000 non-null   object \n",
      " 3   Housing           1000 non-null   object \n",
      " 4   Saving accounts   817 non-null    object \n",
      " 5   Checking account  606 non-null    object \n",
      " 6   Credit amount     980 non-null    float64\n",
      " 7   Duration          1000 non-null   int64  \n",
      " 8   Purpose           1000 non-null   object \n",
      "dtypes: float64(2), int64(1), object(6)\n",
      "memory usage: 70.4+ KB\n"
     ]
    }
   ],
   "source": [
    "df.info()"
   ]
  },
  {
   "cell_type": "markdown",
   "id": "15b2077a",
   "metadata": {},
   "source": [
    "# 2) Imputing missing values"
   ]
  },
  {
   "cell_type": "markdown",
   "id": "339b3e0c",
   "metadata": {},
   "source": [
    "## 2.1) Central tendency"
   ]
  },
  {
   "cell_type": "code",
   "execution_count": 10,
   "id": "13683cf1",
   "metadata": {},
   "outputs": [],
   "source": [
    "categorical_cols = list(df.select_dtypes(include=['object', 'category']).columns)\n",
    "numerical_cols = list(df.select_dtypes(include=['number']).columns)"
   ]
  },
  {
   "cell_type": "code",
   "execution_count": 11,
   "id": "c10ae914",
   "metadata": {},
   "outputs": [
    {
     "data": {
      "text/plain": [
       "['Sex', 'Job', 'Housing', 'Saving accounts', 'Checking account', 'Purpose']"
      ]
     },
     "execution_count": 11,
     "metadata": {},
     "output_type": "execute_result"
    }
   ],
   "source": [
    "categorical_cols"
   ]
  },
  {
   "cell_type": "code",
   "execution_count": 12,
   "id": "b0ea2221",
   "metadata": {},
   "outputs": [
    {
     "data": {
      "text/plain": [
       "['Age', 'Credit amount', 'Duration']"
      ]
     },
     "execution_count": 12,
     "metadata": {},
     "output_type": "execute_result"
    }
   ],
   "source": [
    "numerical_cols"
   ]
  },
  {
   "cell_type": "code",
   "execution_count": 13,
   "id": "1a91ca67",
   "metadata": {},
   "outputs": [
    {
     "data": {
      "text/html": [
       "<div>\n",
       "<style scoped>\n",
       "    .dataframe tbody tr th:only-of-type {\n",
       "        vertical-align: middle;\n",
       "    }\n",
       "\n",
       "    .dataframe tbody tr th {\n",
       "        vertical-align: top;\n",
       "    }\n",
       "\n",
       "    .dataframe thead th {\n",
       "        text-align: right;\n",
       "    }\n",
       "</style>\n",
       "<table border=\"1\" class=\"dataframe\">\n",
       "  <thead>\n",
       "    <tr style=\"text-align: right;\">\n",
       "      <th></th>\n",
       "      <th>Age</th>\n",
       "      <th>Sex</th>\n",
       "      <th>Job</th>\n",
       "      <th>Housing</th>\n",
       "      <th>Saving accounts</th>\n",
       "      <th>Checking account</th>\n",
       "      <th>Credit amount</th>\n",
       "      <th>Duration</th>\n",
       "      <th>Purpose</th>\n",
       "    </tr>\n",
       "  </thead>\n",
       "  <tbody>\n",
       "    <tr>\n",
       "      <th>0</th>\n",
       "      <td>67.0</td>\n",
       "      <td>male</td>\n",
       "      <td>skilled</td>\n",
       "      <td>own</td>\n",
       "      <td>NaN</td>\n",
       "      <td>little</td>\n",
       "      <td>1169.0</td>\n",
       "      <td>6</td>\n",
       "      <td>radio/TV</td>\n",
       "    </tr>\n",
       "    <tr>\n",
       "      <th>1</th>\n",
       "      <td>22.0</td>\n",
       "      <td>female</td>\n",
       "      <td>skilled</td>\n",
       "      <td>own</td>\n",
       "      <td>little</td>\n",
       "      <td>moderate</td>\n",
       "      <td>5951.0</td>\n",
       "      <td>48</td>\n",
       "      <td>radio/TV</td>\n",
       "    </tr>\n",
       "    <tr>\n",
       "      <th>2</th>\n",
       "      <td>49.0</td>\n",
       "      <td>male</td>\n",
       "      <td>unskilled</td>\n",
       "      <td>own</td>\n",
       "      <td>little</td>\n",
       "      <td>NaN</td>\n",
       "      <td>2096.0</td>\n",
       "      <td>12</td>\n",
       "      <td>education</td>\n",
       "    </tr>\n",
       "    <tr>\n",
       "      <th>3</th>\n",
       "      <td>45.0</td>\n",
       "      <td>male</td>\n",
       "      <td>skilled</td>\n",
       "      <td>free</td>\n",
       "      <td>little</td>\n",
       "      <td>little</td>\n",
       "      <td>7882.0</td>\n",
       "      <td>42</td>\n",
       "      <td>furniture/equipment</td>\n",
       "    </tr>\n",
       "    <tr>\n",
       "      <th>4</th>\n",
       "      <td>53.0</td>\n",
       "      <td>male</td>\n",
       "      <td>skilled</td>\n",
       "      <td>free</td>\n",
       "      <td>little</td>\n",
       "      <td>little</td>\n",
       "      <td>4870.0</td>\n",
       "      <td>24</td>\n",
       "      <td>car</td>\n",
       "    </tr>\n",
       "  </tbody>\n",
       "</table>\n",
       "</div>"
      ],
      "text/plain": [
       "    Age     Sex        Job Housing Saving accounts Checking account  \\\n",
       "0  67.0    male    skilled     own             NaN           little   \n",
       "1  22.0  female    skilled     own          little         moderate   \n",
       "2  49.0    male  unskilled     own          little              NaN   \n",
       "3  45.0    male    skilled    free          little           little   \n",
       "4  53.0    male    skilled    free          little           little   \n",
       "\n",
       "   Credit amount  Duration              Purpose  \n",
       "0         1169.0         6             radio/TV  \n",
       "1         5951.0        48             radio/TV  \n",
       "2         2096.0        12            education  \n",
       "3         7882.0        42  furniture/equipment  \n",
       "4         4870.0        24                  car  "
      ]
     },
     "execution_count": 13,
     "metadata": {},
     "output_type": "execute_result"
    }
   ],
   "source": [
    "df.head()"
   ]
  },
  {
   "cell_type": "markdown",
   "id": "ab470098",
   "metadata": {},
   "source": [
    "The following are the mean and mode values:"
   ]
  },
  {
   "cell_type": "code",
   "execution_count": 14,
   "id": "6d039dc7",
   "metadata": {},
   "outputs": [
    {
     "data": {
      "text/plain": [
       "Age                35.525510\n",
       "Credit amount    3280.531633\n",
       "Duration           20.903000\n",
       "dtype: float64"
      ]
     },
     "execution_count": 14,
     "metadata": {},
     "output_type": "execute_result"
    }
   ],
   "source": [
    "df[numerical_cols].mean()"
   ]
  },
  {
   "cell_type": "code",
   "execution_count": 15,
   "id": "9e408a13",
   "metadata": {},
   "outputs": [
    {
     "data": {
      "text/html": [
       "<div>\n",
       "<style scoped>\n",
       "    .dataframe tbody tr th:only-of-type {\n",
       "        vertical-align: middle;\n",
       "    }\n",
       "\n",
       "    .dataframe tbody tr th {\n",
       "        vertical-align: top;\n",
       "    }\n",
       "\n",
       "    .dataframe thead th {\n",
       "        text-align: right;\n",
       "    }\n",
       "</style>\n",
       "<table border=\"1\" class=\"dataframe\">\n",
       "  <thead>\n",
       "    <tr style=\"text-align: right;\">\n",
       "      <th></th>\n",
       "      <th>Sex</th>\n",
       "      <th>Job</th>\n",
       "      <th>Housing</th>\n",
       "      <th>Saving accounts</th>\n",
       "      <th>Checking account</th>\n",
       "      <th>Purpose</th>\n",
       "    </tr>\n",
       "  </thead>\n",
       "  <tbody>\n",
       "    <tr>\n",
       "      <th>0</th>\n",
       "      <td>male</td>\n",
       "      <td>skilled</td>\n",
       "      <td>own</td>\n",
       "      <td>little</td>\n",
       "      <td>little</td>\n",
       "      <td>car</td>\n",
       "    </tr>\n",
       "  </tbody>\n",
       "</table>\n",
       "</div>"
      ],
      "text/plain": [
       "    Sex      Job Housing Saving accounts Checking account Purpose\n",
       "0  male  skilled     own          little           little     car"
      ]
     },
     "execution_count": 15,
     "metadata": {},
     "output_type": "execute_result"
    }
   ],
   "source": [
    "df[categorical_cols].mode()"
   ]
  },
  {
   "cell_type": "markdown",
   "id": "f7098d93",
   "metadata": {},
   "source": [
    "Let's impute missing values!"
   ]
  },
  {
   "cell_type": "code",
   "execution_count": 16,
   "id": "307a060e",
   "metadata": {},
   "outputs": [],
   "source": [
    "from sklearn.impute import SimpleImputer"
   ]
  },
  {
   "cell_type": "markdown",
   "id": "ac05cf7e",
   "metadata": {},
   "source": [
    "We use the mean for numerical variables and the mode for the categorical ones. "
   ]
  },
  {
   "cell_type": "code",
   "execution_count": 17,
   "id": "bf9e28dc",
   "metadata": {},
   "outputs": [],
   "source": [
    "mean_imputer = SimpleImputer(strategy='mean')\n",
    "mode_imputer = SimpleImputer(strategy='most_frequent')"
   ]
  },
  {
   "cell_type": "code",
   "execution_count": 18,
   "id": "087c8508",
   "metadata": {},
   "outputs": [],
   "source": [
    "df_central_tendency_imputed = df.copy()"
   ]
  },
  {
   "cell_type": "code",
   "execution_count": 19,
   "id": "8cab0903",
   "metadata": {},
   "outputs": [],
   "source": [
    "df_central_tendency_imputed[numerical_cols] = pd.DataFrame(\n",
    "    mean_imputer.fit_transform(df_central_tendency_imputed[numerical_cols]), columns=numerical_cols)"
   ]
  },
  {
   "cell_type": "code",
   "execution_count": 20,
   "id": "1131fd69",
   "metadata": {},
   "outputs": [],
   "source": [
    "df_central_tendency_imputed[categorical_cols] = pd.DataFrame(\n",
    "    mode_imputer.fit_transform(df_central_tendency_imputed[categorical_cols]), columns=categorical_cols)"
   ]
  },
  {
   "cell_type": "code",
   "execution_count": 21,
   "id": "d7753be0",
   "metadata": {},
   "outputs": [
    {
     "data": {
      "text/html": [
       "<div>\n",
       "<style scoped>\n",
       "    .dataframe tbody tr th:only-of-type {\n",
       "        vertical-align: middle;\n",
       "    }\n",
       "\n",
       "    .dataframe tbody tr th {\n",
       "        vertical-align: top;\n",
       "    }\n",
       "\n",
       "    .dataframe thead th {\n",
       "        text-align: right;\n",
       "    }\n",
       "</style>\n",
       "<table border=\"1\" class=\"dataframe\">\n",
       "  <thead>\n",
       "    <tr style=\"text-align: right;\">\n",
       "      <th></th>\n",
       "      <th>Age</th>\n",
       "      <th>Sex</th>\n",
       "      <th>Job</th>\n",
       "      <th>Housing</th>\n",
       "      <th>Saving accounts</th>\n",
       "      <th>Checking account</th>\n",
       "      <th>Credit amount</th>\n",
       "      <th>Duration</th>\n",
       "      <th>Purpose</th>\n",
       "    </tr>\n",
       "  </thead>\n",
       "  <tbody>\n",
       "    <tr>\n",
       "      <th>0</th>\n",
       "      <td>67.0</td>\n",
       "      <td>male</td>\n",
       "      <td>skilled</td>\n",
       "      <td>own</td>\n",
       "      <td>little</td>\n",
       "      <td>little</td>\n",
       "      <td>1169.0</td>\n",
       "      <td>6.0</td>\n",
       "      <td>radio/TV</td>\n",
       "    </tr>\n",
       "    <tr>\n",
       "      <th>1</th>\n",
       "      <td>22.0</td>\n",
       "      <td>female</td>\n",
       "      <td>skilled</td>\n",
       "      <td>own</td>\n",
       "      <td>little</td>\n",
       "      <td>moderate</td>\n",
       "      <td>5951.0</td>\n",
       "      <td>48.0</td>\n",
       "      <td>radio/TV</td>\n",
       "    </tr>\n",
       "    <tr>\n",
       "      <th>2</th>\n",
       "      <td>49.0</td>\n",
       "      <td>male</td>\n",
       "      <td>unskilled</td>\n",
       "      <td>own</td>\n",
       "      <td>little</td>\n",
       "      <td>little</td>\n",
       "      <td>2096.0</td>\n",
       "      <td>12.0</td>\n",
       "      <td>education</td>\n",
       "    </tr>\n",
       "    <tr>\n",
       "      <th>3</th>\n",
       "      <td>45.0</td>\n",
       "      <td>male</td>\n",
       "      <td>skilled</td>\n",
       "      <td>free</td>\n",
       "      <td>little</td>\n",
       "      <td>little</td>\n",
       "      <td>7882.0</td>\n",
       "      <td>42.0</td>\n",
       "      <td>furniture/equipment</td>\n",
       "    </tr>\n",
       "    <tr>\n",
       "      <th>4</th>\n",
       "      <td>53.0</td>\n",
       "      <td>male</td>\n",
       "      <td>skilled</td>\n",
       "      <td>free</td>\n",
       "      <td>little</td>\n",
       "      <td>little</td>\n",
       "      <td>4870.0</td>\n",
       "      <td>24.0</td>\n",
       "      <td>car</td>\n",
       "    </tr>\n",
       "  </tbody>\n",
       "</table>\n",
       "</div>"
      ],
      "text/plain": [
       "    Age     Sex        Job Housing Saving accounts Checking account  \\\n",
       "0  67.0    male    skilled     own          little           little   \n",
       "1  22.0  female    skilled     own          little         moderate   \n",
       "2  49.0    male  unskilled     own          little           little   \n",
       "3  45.0    male    skilled    free          little           little   \n",
       "4  53.0    male    skilled    free          little           little   \n",
       "\n",
       "   Credit amount  Duration              Purpose  \n",
       "0         1169.0       6.0             radio/TV  \n",
       "1         5951.0      48.0             radio/TV  \n",
       "2         2096.0      12.0            education  \n",
       "3         7882.0      42.0  furniture/equipment  \n",
       "4         4870.0      24.0                  car  "
      ]
     },
     "execution_count": 21,
     "metadata": {},
     "output_type": "execute_result"
    }
   ],
   "source": [
    "df_central_tendency_imputed.head()"
   ]
  },
  {
   "cell_type": "markdown",
   "id": "76a7bd42",
   "metadata": {},
   "source": [
    "## 2.1) k-Nearest Neighbors"
   ]
  },
  {
   "cell_type": "code",
   "execution_count": 22,
   "id": "cb1deadb",
   "metadata": {},
   "outputs": [],
   "source": [
    "from sklearn.impute import KNNImputer"
   ]
  },
  {
   "cell_type": "markdown",
   "id": "f970c3d9",
   "metadata": {},
   "source": [
    "### First, a toy example."
   ]
  },
  {
   "cell_type": "code",
   "execution_count": 23,
   "id": "9f17d967",
   "metadata": {},
   "outputs": [],
   "source": [
    "# toy dataset with 10 observations\n",
    "toy_example = pd.DataFrame({\n",
    "    'Age':     [25, np.nan, 30, 32, 22, 29, np.nan, 24, 28, np.nan],  \n",
    "    'Pclass':  [1,    2,    1,   3,  2,   1,   2,   3,  1,   1],\n",
    "    'Fare':    [50,  60,  np.nan, 40, 55, 48, 52, 42, 49, 50],    \n",
    "    'Survived':[0,    1,    1,   0,  1,   1,   0,   0,  1,   0]\n",
    "})"
   ]
  },
  {
   "cell_type": "code",
   "execution_count": 24,
   "id": "aa67fd5a",
   "metadata": {},
   "outputs": [
    {
     "data": {
      "text/html": [
       "<div>\n",
       "<style scoped>\n",
       "    .dataframe tbody tr th:only-of-type {\n",
       "        vertical-align: middle;\n",
       "    }\n",
       "\n",
       "    .dataframe tbody tr th {\n",
       "        vertical-align: top;\n",
       "    }\n",
       "\n",
       "    .dataframe thead th {\n",
       "        text-align: right;\n",
       "    }\n",
       "</style>\n",
       "<table border=\"1\" class=\"dataframe\">\n",
       "  <thead>\n",
       "    <tr style=\"text-align: right;\">\n",
       "      <th></th>\n",
       "      <th>Age</th>\n",
       "      <th>Pclass</th>\n",
       "      <th>Fare</th>\n",
       "      <th>Survived</th>\n",
       "    </tr>\n",
       "  </thead>\n",
       "  <tbody>\n",
       "    <tr>\n",
       "      <th>0</th>\n",
       "      <td>25.0</td>\n",
       "      <td>1</td>\n",
       "      <td>50.0</td>\n",
       "      <td>0</td>\n",
       "    </tr>\n",
       "    <tr>\n",
       "      <th>1</th>\n",
       "      <td>NaN</td>\n",
       "      <td>2</td>\n",
       "      <td>60.0</td>\n",
       "      <td>1</td>\n",
       "    </tr>\n",
       "    <tr>\n",
       "      <th>2</th>\n",
       "      <td>30.0</td>\n",
       "      <td>1</td>\n",
       "      <td>NaN</td>\n",
       "      <td>1</td>\n",
       "    </tr>\n",
       "    <tr>\n",
       "      <th>3</th>\n",
       "      <td>32.0</td>\n",
       "      <td>3</td>\n",
       "      <td>40.0</td>\n",
       "      <td>0</td>\n",
       "    </tr>\n",
       "    <tr>\n",
       "      <th>4</th>\n",
       "      <td>22.0</td>\n",
       "      <td>2</td>\n",
       "      <td>55.0</td>\n",
       "      <td>1</td>\n",
       "    </tr>\n",
       "    <tr>\n",
       "      <th>5</th>\n",
       "      <td>29.0</td>\n",
       "      <td>1</td>\n",
       "      <td>48.0</td>\n",
       "      <td>1</td>\n",
       "    </tr>\n",
       "    <tr>\n",
       "      <th>6</th>\n",
       "      <td>NaN</td>\n",
       "      <td>2</td>\n",
       "      <td>52.0</td>\n",
       "      <td>0</td>\n",
       "    </tr>\n",
       "    <tr>\n",
       "      <th>7</th>\n",
       "      <td>24.0</td>\n",
       "      <td>3</td>\n",
       "      <td>42.0</td>\n",
       "      <td>0</td>\n",
       "    </tr>\n",
       "    <tr>\n",
       "      <th>8</th>\n",
       "      <td>28.0</td>\n",
       "      <td>1</td>\n",
       "      <td>49.0</td>\n",
       "      <td>1</td>\n",
       "    </tr>\n",
       "    <tr>\n",
       "      <th>9</th>\n",
       "      <td>NaN</td>\n",
       "      <td>1</td>\n",
       "      <td>50.0</td>\n",
       "      <td>0</td>\n",
       "    </tr>\n",
       "  </tbody>\n",
       "</table>\n",
       "</div>"
      ],
      "text/plain": [
       "    Age  Pclass  Fare  Survived\n",
       "0  25.0       1  50.0         0\n",
       "1   NaN       2  60.0         1\n",
       "2  30.0       1   NaN         1\n",
       "3  32.0       3  40.0         0\n",
       "4  22.0       2  55.0         1\n",
       "5  29.0       1  48.0         1\n",
       "6   NaN       2  52.0         0\n",
       "7  24.0       3  42.0         0\n",
       "8  28.0       1  49.0         1\n",
       "9   NaN       1  50.0         0"
      ]
     },
     "execution_count": 24,
     "metadata": {},
     "output_type": "execute_result"
    }
   ],
   "source": [
    "toy_example"
   ]
  },
  {
   "cell_type": "code",
   "execution_count": 25,
   "id": "e3120cec",
   "metadata": {},
   "outputs": [],
   "source": [
    "# Create KNNImputer instance with 2 nearest neighbors\n",
    "imputer = KNNImputer(n_neighbors=2)\n",
    "\n",
    "# Fit and transform the dataset\n",
    "toy_example_imputed = pd.DataFrame(imputer.fit_transform(toy_example), columns=toy_example.columns)"
   ]
  },
  {
   "cell_type": "code",
   "execution_count": 26,
   "id": "b14fd346",
   "metadata": {},
   "outputs": [
    {
     "data": {
      "text/html": [
       "<div>\n",
       "<style scoped>\n",
       "    .dataframe tbody tr th:only-of-type {\n",
       "        vertical-align: middle;\n",
       "    }\n",
       "\n",
       "    .dataframe tbody tr th {\n",
       "        vertical-align: top;\n",
       "    }\n",
       "\n",
       "    .dataframe thead th {\n",
       "        text-align: right;\n",
       "    }\n",
       "</style>\n",
       "<table border=\"1\" class=\"dataframe\">\n",
       "  <thead>\n",
       "    <tr style=\"text-align: right;\">\n",
       "      <th></th>\n",
       "      <th>Age</th>\n",
       "      <th>Pclass</th>\n",
       "      <th>Fare</th>\n",
       "      <th>Survived</th>\n",
       "    </tr>\n",
       "  </thead>\n",
       "  <tbody>\n",
       "    <tr>\n",
       "      <th>0</th>\n",
       "      <td>25.0</td>\n",
       "      <td>1.0</td>\n",
       "      <td>50.0</td>\n",
       "      <td>0.0</td>\n",
       "    </tr>\n",
       "    <tr>\n",
       "      <th>1</th>\n",
       "      <td>26.0</td>\n",
       "      <td>2.0</td>\n",
       "      <td>60.0</td>\n",
       "      <td>1.0</td>\n",
       "    </tr>\n",
       "    <tr>\n",
       "      <th>2</th>\n",
       "      <td>30.0</td>\n",
       "      <td>1.0</td>\n",
       "      <td>54.0</td>\n",
       "      <td>1.0</td>\n",
       "    </tr>\n",
       "    <tr>\n",
       "      <th>3</th>\n",
       "      <td>32.0</td>\n",
       "      <td>3.0</td>\n",
       "      <td>40.0</td>\n",
       "      <td>0.0</td>\n",
       "    </tr>\n",
       "    <tr>\n",
       "      <th>4</th>\n",
       "      <td>22.0</td>\n",
       "      <td>2.0</td>\n",
       "      <td>55.0</td>\n",
       "      <td>1.0</td>\n",
       "    </tr>\n",
       "    <tr>\n",
       "      <th>5</th>\n",
       "      <td>29.0</td>\n",
       "      <td>1.0</td>\n",
       "      <td>48.0</td>\n",
       "      <td>1.0</td>\n",
       "    </tr>\n",
       "    <tr>\n",
       "      <th>6</th>\n",
       "      <td>27.5</td>\n",
       "      <td>2.0</td>\n",
       "      <td>52.0</td>\n",
       "      <td>0.0</td>\n",
       "    </tr>\n",
       "    <tr>\n",
       "      <th>7</th>\n",
       "      <td>24.0</td>\n",
       "      <td>3.0</td>\n",
       "      <td>42.0</td>\n",
       "      <td>0.0</td>\n",
       "    </tr>\n",
       "    <tr>\n",
       "      <th>8</th>\n",
       "      <td>28.0</td>\n",
       "      <td>1.0</td>\n",
       "      <td>49.0</td>\n",
       "      <td>1.0</td>\n",
       "    </tr>\n",
       "    <tr>\n",
       "      <th>9</th>\n",
       "      <td>27.5</td>\n",
       "      <td>1.0</td>\n",
       "      <td>50.0</td>\n",
       "      <td>0.0</td>\n",
       "    </tr>\n",
       "  </tbody>\n",
       "</table>\n",
       "</div>"
      ],
      "text/plain": [
       "    Age  Pclass  Fare  Survived\n",
       "0  25.0     1.0  50.0       0.0\n",
       "1  26.0     2.0  60.0       1.0\n",
       "2  30.0     1.0  54.0       1.0\n",
       "3  32.0     3.0  40.0       0.0\n",
       "4  22.0     2.0  55.0       1.0\n",
       "5  29.0     1.0  48.0       1.0\n",
       "6  27.5     2.0  52.0       0.0\n",
       "7  24.0     3.0  42.0       0.0\n",
       "8  28.0     1.0  49.0       1.0\n",
       "9  27.5     1.0  50.0       0.0"
      ]
     },
     "execution_count": 26,
     "metadata": {},
     "output_type": "execute_result"
    }
   ],
   "source": [
    "toy_example_imputed"
   ]
  },
  {
   "cell_type": "markdown",
   "id": "e1269eb6",
   "metadata": {},
   "source": [
    "### Larger data set"
   ]
  },
  {
   "cell_type": "code",
   "execution_count": 27,
   "id": "964f7f0e",
   "metadata": {},
   "outputs": [
    {
     "data": {
      "text/html": [
       "<div>\n",
       "<style scoped>\n",
       "    .dataframe tbody tr th:only-of-type {\n",
       "        vertical-align: middle;\n",
       "    }\n",
       "\n",
       "    .dataframe tbody tr th {\n",
       "        vertical-align: top;\n",
       "    }\n",
       "\n",
       "    .dataframe thead th {\n",
       "        text-align: right;\n",
       "    }\n",
       "</style>\n",
       "<table border=\"1\" class=\"dataframe\">\n",
       "  <thead>\n",
       "    <tr style=\"text-align: right;\">\n",
       "      <th></th>\n",
       "      <th>Age</th>\n",
       "      <th>Sex</th>\n",
       "      <th>Job</th>\n",
       "      <th>Housing</th>\n",
       "      <th>Saving accounts</th>\n",
       "      <th>Checking account</th>\n",
       "      <th>Credit amount</th>\n",
       "      <th>Duration</th>\n",
       "      <th>Purpose</th>\n",
       "    </tr>\n",
       "  </thead>\n",
       "  <tbody>\n",
       "    <tr>\n",
       "      <th>0</th>\n",
       "      <td>67.0</td>\n",
       "      <td>male</td>\n",
       "      <td>skilled</td>\n",
       "      <td>own</td>\n",
       "      <td>NaN</td>\n",
       "      <td>little</td>\n",
       "      <td>1169.0</td>\n",
       "      <td>6</td>\n",
       "      <td>radio/TV</td>\n",
       "    </tr>\n",
       "    <tr>\n",
       "      <th>1</th>\n",
       "      <td>22.0</td>\n",
       "      <td>female</td>\n",
       "      <td>skilled</td>\n",
       "      <td>own</td>\n",
       "      <td>little</td>\n",
       "      <td>moderate</td>\n",
       "      <td>5951.0</td>\n",
       "      <td>48</td>\n",
       "      <td>radio/TV</td>\n",
       "    </tr>\n",
       "    <tr>\n",
       "      <th>2</th>\n",
       "      <td>49.0</td>\n",
       "      <td>male</td>\n",
       "      <td>unskilled</td>\n",
       "      <td>own</td>\n",
       "      <td>little</td>\n",
       "      <td>NaN</td>\n",
       "      <td>2096.0</td>\n",
       "      <td>12</td>\n",
       "      <td>education</td>\n",
       "    </tr>\n",
       "    <tr>\n",
       "      <th>3</th>\n",
       "      <td>45.0</td>\n",
       "      <td>male</td>\n",
       "      <td>skilled</td>\n",
       "      <td>free</td>\n",
       "      <td>little</td>\n",
       "      <td>little</td>\n",
       "      <td>7882.0</td>\n",
       "      <td>42</td>\n",
       "      <td>furniture/equipment</td>\n",
       "    </tr>\n",
       "    <tr>\n",
       "      <th>4</th>\n",
       "      <td>53.0</td>\n",
       "      <td>male</td>\n",
       "      <td>skilled</td>\n",
       "      <td>free</td>\n",
       "      <td>little</td>\n",
       "      <td>little</td>\n",
       "      <td>4870.0</td>\n",
       "      <td>24</td>\n",
       "      <td>car</td>\n",
       "    </tr>\n",
       "  </tbody>\n",
       "</table>\n",
       "</div>"
      ],
      "text/plain": [
       "    Age     Sex        Job Housing Saving accounts Checking account  \\\n",
       "0  67.0    male    skilled     own             NaN           little   \n",
       "1  22.0  female    skilled     own          little         moderate   \n",
       "2  49.0    male  unskilled     own          little              NaN   \n",
       "3  45.0    male    skilled    free          little           little   \n",
       "4  53.0    male    skilled    free          little           little   \n",
       "\n",
       "   Credit amount  Duration              Purpose  \n",
       "0         1169.0         6             radio/TV  \n",
       "1         5951.0        48             radio/TV  \n",
       "2         2096.0        12            education  \n",
       "3         7882.0        42  furniture/equipment  \n",
       "4         4870.0        24                  car  "
      ]
     },
     "execution_count": 27,
     "metadata": {},
     "output_type": "execute_result"
    }
   ],
   "source": [
    "df.head()"
   ]
  },
  {
   "cell_type": "code",
   "execution_count": 28,
   "id": "f2d19541",
   "metadata": {},
   "outputs": [
    {
     "name": "stdout",
     "output_type": "stream",
     "text": [
      "<class 'pandas.core.frame.DataFrame'>\n",
      "RangeIndex: 1000 entries, 0 to 999\n",
      "Data columns (total 9 columns):\n",
      " #   Column            Non-Null Count  Dtype  \n",
      "---  ------            --------------  -----  \n",
      " 0   Age               980 non-null    float64\n",
      " 1   Sex               1000 non-null   object \n",
      " 2   Job               1000 non-null   object \n",
      " 3   Housing           1000 non-null   object \n",
      " 4   Saving accounts   817 non-null    object \n",
      " 5   Checking account  606 non-null    object \n",
      " 6   Credit amount     980 non-null    float64\n",
      " 7   Duration          1000 non-null   int64  \n",
      " 8   Purpose           1000 non-null   object \n",
      "dtypes: float64(2), int64(1), object(6)\n",
      "memory usage: 70.4+ KB\n"
     ]
    }
   ],
   "source": [
    "df.info()"
   ]
  },
  {
   "cell_type": "code",
   "execution_count": 29,
   "id": "f2885876",
   "metadata": {},
   "outputs": [],
   "source": [
    "imputer = KNNImputer(n_neighbors=2)"
   ]
  },
  {
   "cell_type": "code",
   "execution_count": 30,
   "id": "35089c84",
   "metadata": {},
   "outputs": [],
   "source": [
    "# imputer.fit_transform(df) # this shouldn't work "
   ]
  },
  {
   "cell_type": "code",
   "execution_count": 31,
   "id": "c99a07ca",
   "metadata": {},
   "outputs": [
    {
     "data": {
      "text/plain": [
       "['Age', 'Credit amount', 'Duration']"
      ]
     },
     "execution_count": 31,
     "metadata": {},
     "output_type": "execute_result"
    }
   ],
   "source": [
    "numerical_cols"
   ]
  },
  {
   "cell_type": "code",
   "execution_count": 32,
   "id": "2b860bd6",
   "metadata": {},
   "outputs": [
    {
     "name": "stdout",
     "output_type": "stream",
     "text": [
      "<class 'pandas.core.frame.DataFrame'>\n",
      "RangeIndex: 1000 entries, 0 to 999\n",
      "Data columns (total 3 columns):\n",
      " #   Column         Non-Null Count  Dtype  \n",
      "---  ------         --------------  -----  \n",
      " 0   Age            980 non-null    float64\n",
      " 1   Credit amount  980 non-null    float64\n",
      " 2   Duration       1000 non-null   int64  \n",
      "dtypes: float64(2), int64(1)\n",
      "memory usage: 23.6 KB\n"
     ]
    }
   ],
   "source": [
    "df[numerical_cols].info()"
   ]
  },
  {
   "cell_type": "code",
   "execution_count": 33,
   "id": "32d64b33",
   "metadata": {},
   "outputs": [
    {
     "data": {
      "text/plain": [
       "array([[  67., 1169.,    6.],\n",
       "       [  22., 5951.,   48.],\n",
       "       [  49., 2096.,   12.],\n",
       "       ...,\n",
       "       [  38.,  804.,   12.],\n",
       "       [  23., 1845.,   45.],\n",
       "       [  27., 4576.,   45.]])"
      ]
     },
     "execution_count": 33,
     "metadata": {},
     "output_type": "execute_result"
    }
   ],
   "source": [
    "imputer.fit_transform(df[numerical_cols])"
   ]
  },
  {
   "cell_type": "code",
   "execution_count": 34,
   "id": "5f04e8a5",
   "metadata": {},
   "outputs": [],
   "source": [
    "df_knn_imputed = pd.DataFrame(imputer.fit_transform(df[numerical_cols]), columns=numerical_cols)"
   ]
  },
  {
   "cell_type": "code",
   "execution_count": 35,
   "id": "b67cacea",
   "metadata": {},
   "outputs": [
    {
     "data": {
      "text/html": [
       "<div>\n",
       "<style scoped>\n",
       "    .dataframe tbody tr th:only-of-type {\n",
       "        vertical-align: middle;\n",
       "    }\n",
       "\n",
       "    .dataframe tbody tr th {\n",
       "        vertical-align: top;\n",
       "    }\n",
       "\n",
       "    .dataframe thead th {\n",
       "        text-align: right;\n",
       "    }\n",
       "</style>\n",
       "<table border=\"1\" class=\"dataframe\">\n",
       "  <thead>\n",
       "    <tr style=\"text-align: right;\">\n",
       "      <th></th>\n",
       "      <th>Sex</th>\n",
       "      <th>Job</th>\n",
       "      <th>Housing</th>\n",
       "      <th>Saving accounts</th>\n",
       "      <th>Checking account</th>\n",
       "      <th>Purpose</th>\n",
       "    </tr>\n",
       "  </thead>\n",
       "  <tbody>\n",
       "    <tr>\n",
       "      <th>0</th>\n",
       "      <td>male</td>\n",
       "      <td>skilled</td>\n",
       "      <td>own</td>\n",
       "      <td>NaN</td>\n",
       "      <td>little</td>\n",
       "      <td>radio/TV</td>\n",
       "    </tr>\n",
       "    <tr>\n",
       "      <th>1</th>\n",
       "      <td>female</td>\n",
       "      <td>skilled</td>\n",
       "      <td>own</td>\n",
       "      <td>little</td>\n",
       "      <td>moderate</td>\n",
       "      <td>radio/TV</td>\n",
       "    </tr>\n",
       "    <tr>\n",
       "      <th>2</th>\n",
       "      <td>male</td>\n",
       "      <td>unskilled</td>\n",
       "      <td>own</td>\n",
       "      <td>little</td>\n",
       "      <td>NaN</td>\n",
       "      <td>education</td>\n",
       "    </tr>\n",
       "    <tr>\n",
       "      <th>3</th>\n",
       "      <td>male</td>\n",
       "      <td>skilled</td>\n",
       "      <td>free</td>\n",
       "      <td>little</td>\n",
       "      <td>little</td>\n",
       "      <td>furniture/equipment</td>\n",
       "    </tr>\n",
       "    <tr>\n",
       "      <th>4</th>\n",
       "      <td>male</td>\n",
       "      <td>skilled</td>\n",
       "      <td>free</td>\n",
       "      <td>little</td>\n",
       "      <td>little</td>\n",
       "      <td>car</td>\n",
       "    </tr>\n",
       "  </tbody>\n",
       "</table>\n",
       "</div>"
      ],
      "text/plain": [
       "      Sex        Job Housing Saving accounts Checking account  \\\n",
       "0    male    skilled     own             NaN           little   \n",
       "1  female    skilled     own          little         moderate   \n",
       "2    male  unskilled     own          little              NaN   \n",
       "3    male    skilled    free          little           little   \n",
       "4    male    skilled    free          little           little   \n",
       "\n",
       "               Purpose  \n",
       "0             radio/TV  \n",
       "1             radio/TV  \n",
       "2            education  \n",
       "3  furniture/equipment  \n",
       "4                  car  "
      ]
     },
     "execution_count": 35,
     "metadata": {},
     "output_type": "execute_result"
    }
   ],
   "source": [
    "df[categorical_cols].head()"
   ]
  },
  {
   "cell_type": "code",
   "execution_count": 36,
   "id": "8c41a05a",
   "metadata": {},
   "outputs": [],
   "source": [
    "df_knn_imputed = df_knn_imputed.join(df[categorical_cols])"
   ]
  },
  {
   "cell_type": "code",
   "execution_count": 37,
   "id": "b34432d9",
   "metadata": {},
   "outputs": [
    {
     "data": {
      "text/html": [
       "<div>\n",
       "<style scoped>\n",
       "    .dataframe tbody tr th:only-of-type {\n",
       "        vertical-align: middle;\n",
       "    }\n",
       "\n",
       "    .dataframe tbody tr th {\n",
       "        vertical-align: top;\n",
       "    }\n",
       "\n",
       "    .dataframe thead th {\n",
       "        text-align: right;\n",
       "    }\n",
       "</style>\n",
       "<table border=\"1\" class=\"dataframe\">\n",
       "  <thead>\n",
       "    <tr style=\"text-align: right;\">\n",
       "      <th></th>\n",
       "      <th>Age</th>\n",
       "      <th>Credit amount</th>\n",
       "      <th>Duration</th>\n",
       "      <th>Sex</th>\n",
       "      <th>Job</th>\n",
       "      <th>Housing</th>\n",
       "      <th>Saving accounts</th>\n",
       "      <th>Checking account</th>\n",
       "      <th>Purpose</th>\n",
       "    </tr>\n",
       "  </thead>\n",
       "  <tbody>\n",
       "    <tr>\n",
       "      <th>0</th>\n",
       "      <td>67.0</td>\n",
       "      <td>1169.0</td>\n",
       "      <td>6.0</td>\n",
       "      <td>male</td>\n",
       "      <td>skilled</td>\n",
       "      <td>own</td>\n",
       "      <td>NaN</td>\n",
       "      <td>little</td>\n",
       "      <td>radio/TV</td>\n",
       "    </tr>\n",
       "    <tr>\n",
       "      <th>1</th>\n",
       "      <td>22.0</td>\n",
       "      <td>5951.0</td>\n",
       "      <td>48.0</td>\n",
       "      <td>female</td>\n",
       "      <td>skilled</td>\n",
       "      <td>own</td>\n",
       "      <td>little</td>\n",
       "      <td>moderate</td>\n",
       "      <td>radio/TV</td>\n",
       "    </tr>\n",
       "    <tr>\n",
       "      <th>2</th>\n",
       "      <td>49.0</td>\n",
       "      <td>2096.0</td>\n",
       "      <td>12.0</td>\n",
       "      <td>male</td>\n",
       "      <td>unskilled</td>\n",
       "      <td>own</td>\n",
       "      <td>little</td>\n",
       "      <td>NaN</td>\n",
       "      <td>education</td>\n",
       "    </tr>\n",
       "    <tr>\n",
       "      <th>3</th>\n",
       "      <td>45.0</td>\n",
       "      <td>7882.0</td>\n",
       "      <td>42.0</td>\n",
       "      <td>male</td>\n",
       "      <td>skilled</td>\n",
       "      <td>free</td>\n",
       "      <td>little</td>\n",
       "      <td>little</td>\n",
       "      <td>furniture/equipment</td>\n",
       "    </tr>\n",
       "    <tr>\n",
       "      <th>4</th>\n",
       "      <td>53.0</td>\n",
       "      <td>4870.0</td>\n",
       "      <td>24.0</td>\n",
       "      <td>male</td>\n",
       "      <td>skilled</td>\n",
       "      <td>free</td>\n",
       "      <td>little</td>\n",
       "      <td>little</td>\n",
       "      <td>car</td>\n",
       "    </tr>\n",
       "  </tbody>\n",
       "</table>\n",
       "</div>"
      ],
      "text/plain": [
       "    Age  Credit amount  Duration     Sex        Job Housing Saving accounts  \\\n",
       "0  67.0         1169.0       6.0    male    skilled     own             NaN   \n",
       "1  22.0         5951.0      48.0  female    skilled     own          little   \n",
       "2  49.0         2096.0      12.0    male  unskilled     own          little   \n",
       "3  45.0         7882.0      42.0    male    skilled    free          little   \n",
       "4  53.0         4870.0      24.0    male    skilled    free          little   \n",
       "\n",
       "  Checking account              Purpose  \n",
       "0           little             radio/TV  \n",
       "1         moderate             radio/TV  \n",
       "2              NaN            education  \n",
       "3           little  furniture/equipment  \n",
       "4           little                  car  "
      ]
     },
     "execution_count": 37,
     "metadata": {},
     "output_type": "execute_result"
    }
   ],
   "source": [
    "df_knn_imputed.head()"
   ]
  },
  {
   "cell_type": "code",
   "execution_count": 38,
   "id": "4a158fa1",
   "metadata": {},
   "outputs": [
    {
     "name": "stdout",
     "output_type": "stream",
     "text": [
      "<class 'pandas.core.frame.DataFrame'>\n",
      "RangeIndex: 1000 entries, 0 to 999\n",
      "Data columns (total 9 columns):\n",
      " #   Column            Non-Null Count  Dtype  \n",
      "---  ------            --------------  -----  \n",
      " 0   Age               1000 non-null   float64\n",
      " 1   Credit amount     1000 non-null   float64\n",
      " 2   Duration          1000 non-null   float64\n",
      " 3   Sex               1000 non-null   object \n",
      " 4   Job               1000 non-null   object \n",
      " 5   Housing           1000 non-null   object \n",
      " 6   Saving accounts   817 non-null    object \n",
      " 7   Checking account  606 non-null    object \n",
      " 8   Purpose           1000 non-null   object \n",
      "dtypes: float64(3), object(6)\n",
      "memory usage: 70.4+ KB\n"
     ]
    }
   ],
   "source": [
    "df_knn_imputed.info()"
   ]
  },
  {
   "cell_type": "markdown",
   "id": "57060169",
   "metadata": {},
   "source": [
    "<div class=\"alert alert-info\">\n",
    "  <strong>Assignment 1:</strong> How well did KNN imputation perform? To evaluate its accuracy, compare the imputed values to the original ones using Mean Squared Error (MSE).\n",
    "</div>\n"
   ]
  },
  {
   "cell_type": "markdown",
   "id": "3d6d8ce2",
   "metadata": {},
   "source": [
    "## 2.2) missForest 🌳"
   ]
  },
  {
   "cell_type": "code",
   "execution_count": 39,
   "id": "e6fbc979",
   "metadata": {},
   "outputs": [],
   "source": [
    "from missforest import MissForest "
   ]
  },
  {
   "cell_type": "code",
   "execution_count": 40,
   "id": "b0426563",
   "metadata": {},
   "outputs": [
    {
     "data": {
      "text/html": [
       "<div>\n",
       "<style scoped>\n",
       "    .dataframe tbody tr th:only-of-type {\n",
       "        vertical-align: middle;\n",
       "    }\n",
       "\n",
       "    .dataframe tbody tr th {\n",
       "        vertical-align: top;\n",
       "    }\n",
       "\n",
       "    .dataframe thead th {\n",
       "        text-align: right;\n",
       "    }\n",
       "</style>\n",
       "<table border=\"1\" class=\"dataframe\">\n",
       "  <thead>\n",
       "    <tr style=\"text-align: right;\">\n",
       "      <th></th>\n",
       "      <th>Age</th>\n",
       "      <th>Sex</th>\n",
       "      <th>Job</th>\n",
       "      <th>Housing</th>\n",
       "      <th>Saving accounts</th>\n",
       "      <th>Checking account</th>\n",
       "      <th>Credit amount</th>\n",
       "      <th>Duration</th>\n",
       "      <th>Purpose</th>\n",
       "    </tr>\n",
       "  </thead>\n",
       "  <tbody>\n",
       "    <tr>\n",
       "      <th>0</th>\n",
       "      <td>67.0</td>\n",
       "      <td>male</td>\n",
       "      <td>skilled</td>\n",
       "      <td>own</td>\n",
       "      <td>NaN</td>\n",
       "      <td>little</td>\n",
       "      <td>1169.0</td>\n",
       "      <td>6</td>\n",
       "      <td>radio/TV</td>\n",
       "    </tr>\n",
       "    <tr>\n",
       "      <th>1</th>\n",
       "      <td>22.0</td>\n",
       "      <td>female</td>\n",
       "      <td>skilled</td>\n",
       "      <td>own</td>\n",
       "      <td>little</td>\n",
       "      <td>moderate</td>\n",
       "      <td>5951.0</td>\n",
       "      <td>48</td>\n",
       "      <td>radio/TV</td>\n",
       "    </tr>\n",
       "    <tr>\n",
       "      <th>2</th>\n",
       "      <td>49.0</td>\n",
       "      <td>male</td>\n",
       "      <td>unskilled</td>\n",
       "      <td>own</td>\n",
       "      <td>little</td>\n",
       "      <td>NaN</td>\n",
       "      <td>2096.0</td>\n",
       "      <td>12</td>\n",
       "      <td>education</td>\n",
       "    </tr>\n",
       "    <tr>\n",
       "      <th>3</th>\n",
       "      <td>45.0</td>\n",
       "      <td>male</td>\n",
       "      <td>skilled</td>\n",
       "      <td>free</td>\n",
       "      <td>little</td>\n",
       "      <td>little</td>\n",
       "      <td>7882.0</td>\n",
       "      <td>42</td>\n",
       "      <td>furniture/equipment</td>\n",
       "    </tr>\n",
       "    <tr>\n",
       "      <th>4</th>\n",
       "      <td>53.0</td>\n",
       "      <td>male</td>\n",
       "      <td>skilled</td>\n",
       "      <td>free</td>\n",
       "      <td>little</td>\n",
       "      <td>little</td>\n",
       "      <td>4870.0</td>\n",
       "      <td>24</td>\n",
       "      <td>car</td>\n",
       "    </tr>\n",
       "  </tbody>\n",
       "</table>\n",
       "</div>"
      ],
      "text/plain": [
       "    Age     Sex        Job Housing Saving accounts Checking account  \\\n",
       "0  67.0    male    skilled     own             NaN           little   \n",
       "1  22.0  female    skilled     own          little         moderate   \n",
       "2  49.0    male  unskilled     own          little              NaN   \n",
       "3  45.0    male    skilled    free          little           little   \n",
       "4  53.0    male    skilled    free          little           little   \n",
       "\n",
       "   Credit amount  Duration              Purpose  \n",
       "0         1169.0         6             radio/TV  \n",
       "1         5951.0        48             radio/TV  \n",
       "2         2096.0        12            education  \n",
       "3         7882.0        42  furniture/equipment  \n",
       "4         4870.0        24                  car  "
      ]
     },
     "execution_count": 40,
     "metadata": {},
     "output_type": "execute_result"
    }
   ],
   "source": [
    "df.head()"
   ]
  },
  {
   "cell_type": "code",
   "execution_count": 41,
   "id": "6fc505be",
   "metadata": {},
   "outputs": [
    {
     "name": "stdout",
     "output_type": "stream",
     "text": [
      "<class 'pandas.core.frame.DataFrame'>\n",
      "RangeIndex: 1000 entries, 0 to 999\n",
      "Data columns (total 9 columns):\n",
      " #   Column            Non-Null Count  Dtype  \n",
      "---  ------            --------------  -----  \n",
      " 0   Age               980 non-null    float64\n",
      " 1   Sex               1000 non-null   object \n",
      " 2   Job               1000 non-null   object \n",
      " 3   Housing           1000 non-null   object \n",
      " 4   Saving accounts   817 non-null    object \n",
      " 5   Checking account  606 non-null    object \n",
      " 6   Credit amount     980 non-null    float64\n",
      " 7   Duration          1000 non-null   int64  \n",
      " 8   Purpose           1000 non-null   object \n",
      "dtypes: float64(2), int64(1), object(6)\n",
      "memory usage: 70.4+ KB\n"
     ]
    }
   ],
   "source": [
    "df.info()"
   ]
  },
  {
   "cell_type": "markdown",
   "id": "8fa21f9e",
   "metadata": {},
   "source": [
    "`missForest` is a bit picky regarding representation, so we will transform categorical into a integer representation. "
   ]
  },
  {
   "cell_type": "code",
   "execution_count": 42,
   "id": "c779c3f7",
   "metadata": {},
   "outputs": [],
   "source": [
    "from sklearn.preprocessing import OrdinalEncoder"
   ]
  },
  {
   "cell_type": "code",
   "execution_count": 43,
   "id": "88cc73c0",
   "metadata": {},
   "outputs": [],
   "source": [
    "encoder = OrdinalEncoder()\n",
    "df[categorical_cols] = encoder.fit_transform(df[categorical_cols])"
   ]
  },
  {
   "cell_type": "code",
   "execution_count": 44,
   "id": "35fe89d9",
   "metadata": {},
   "outputs": [
    {
     "data": {
      "text/html": [
       "<div>\n",
       "<style scoped>\n",
       "    .dataframe tbody tr th:only-of-type {\n",
       "        vertical-align: middle;\n",
       "    }\n",
       "\n",
       "    .dataframe tbody tr th {\n",
       "        vertical-align: top;\n",
       "    }\n",
       "\n",
       "    .dataframe thead th {\n",
       "        text-align: right;\n",
       "    }\n",
       "</style>\n",
       "<table border=\"1\" class=\"dataframe\">\n",
       "  <thead>\n",
       "    <tr style=\"text-align: right;\">\n",
       "      <th></th>\n",
       "      <th>Age</th>\n",
       "      <th>Sex</th>\n",
       "      <th>Job</th>\n",
       "      <th>Housing</th>\n",
       "      <th>Saving accounts</th>\n",
       "      <th>Checking account</th>\n",
       "      <th>Credit amount</th>\n",
       "      <th>Duration</th>\n",
       "      <th>Purpose</th>\n",
       "    </tr>\n",
       "  </thead>\n",
       "  <tbody>\n",
       "    <tr>\n",
       "      <th>0</th>\n",
       "      <td>67.0</td>\n",
       "      <td>1.0</td>\n",
       "      <td>1.0</td>\n",
       "      <td>1.0</td>\n",
       "      <td>NaN</td>\n",
       "      <td>0.0</td>\n",
       "      <td>1169.0</td>\n",
       "      <td>6</td>\n",
       "      <td>5.0</td>\n",
       "    </tr>\n",
       "    <tr>\n",
       "      <th>1</th>\n",
       "      <td>22.0</td>\n",
       "      <td>0.0</td>\n",
       "      <td>1.0</td>\n",
       "      <td>1.0</td>\n",
       "      <td>0.0</td>\n",
       "      <td>1.0</td>\n",
       "      <td>5951.0</td>\n",
       "      <td>48</td>\n",
       "      <td>5.0</td>\n",
       "    </tr>\n",
       "    <tr>\n",
       "      <th>2</th>\n",
       "      <td>49.0</td>\n",
       "      <td>1.0</td>\n",
       "      <td>3.0</td>\n",
       "      <td>1.0</td>\n",
       "      <td>0.0</td>\n",
       "      <td>NaN</td>\n",
       "      <td>2096.0</td>\n",
       "      <td>12</td>\n",
       "      <td>3.0</td>\n",
       "    </tr>\n",
       "    <tr>\n",
       "      <th>3</th>\n",
       "      <td>45.0</td>\n",
       "      <td>1.0</td>\n",
       "      <td>1.0</td>\n",
       "      <td>0.0</td>\n",
       "      <td>0.0</td>\n",
       "      <td>0.0</td>\n",
       "      <td>7882.0</td>\n",
       "      <td>42</td>\n",
       "      <td>4.0</td>\n",
       "    </tr>\n",
       "    <tr>\n",
       "      <th>4</th>\n",
       "      <td>53.0</td>\n",
       "      <td>1.0</td>\n",
       "      <td>1.0</td>\n",
       "      <td>0.0</td>\n",
       "      <td>0.0</td>\n",
       "      <td>0.0</td>\n",
       "      <td>4870.0</td>\n",
       "      <td>24</td>\n",
       "      <td>1.0</td>\n",
       "    </tr>\n",
       "  </tbody>\n",
       "</table>\n",
       "</div>"
      ],
      "text/plain": [
       "    Age  Sex  Job  Housing  Saving accounts  Checking account  Credit amount  \\\n",
       "0  67.0  1.0  1.0      1.0              NaN               0.0         1169.0   \n",
       "1  22.0  0.0  1.0      1.0              0.0               1.0         5951.0   \n",
       "2  49.0  1.0  3.0      1.0              0.0               NaN         2096.0   \n",
       "3  45.0  1.0  1.0      0.0              0.0               0.0         7882.0   \n",
       "4  53.0  1.0  1.0      0.0              0.0               0.0         4870.0   \n",
       "\n",
       "   Duration  Purpose  \n",
       "0         6      5.0  \n",
       "1        48      5.0  \n",
       "2        12      3.0  \n",
       "3        42      4.0  \n",
       "4        24      1.0  "
      ]
     },
     "execution_count": 44,
     "metadata": {},
     "output_type": "execute_result"
    }
   ],
   "source": [
    "df.head()"
   ]
  },
  {
   "cell_type": "code",
   "execution_count": 45,
   "id": "110570d9",
   "metadata": {},
   "outputs": [
    {
     "name": "stdout",
     "output_type": "stream",
     "text": [
      "Mapping for 'Sex':\n",
      "    female -> 0\n",
      "    male -> 1\n",
      "Mapping for 'Job':\n",
      "    highly skilled -> 0\n",
      "    skilled -> 1\n",
      "    unemployed/unskilled -> 2\n",
      "    unskilled -> 3\n",
      "Mapping for 'Housing':\n",
      "    free -> 0\n",
      "    own -> 1\n",
      "    rent -> 2\n",
      "Mapping for 'Saving accounts':\n",
      "    little -> 0\n",
      "    moderate -> 1\n",
      "    quite rich -> 2\n",
      "    rich -> 3\n",
      "Mapping for 'Checking account':\n",
      "    little -> 0\n",
      "    moderate -> 1\n",
      "    rich -> 2\n",
      "Mapping for 'Purpose':\n",
      "    business -> 0\n",
      "    car -> 1\n",
      "    domestic appliances -> 2\n",
      "    education -> 3\n",
      "    furniture/equipment -> 4\n",
      "    radio/TV -> 5\n",
      "    repairs -> 6\n",
      "    vacation/others -> 7\n"
     ]
    }
   ],
   "source": [
    "for col, cats in zip(categorical_cols, encoder.categories_):\n",
    "    print(f\"Mapping for '{col}':\")\n",
    "    for i, cat in enumerate(cats):\n",
    "        if not pd.isna(cat): \n",
    "            print(f\"    {cat} -> {i}\")"
   ]
  },
  {
   "cell_type": "markdown",
   "id": "ef5c359e",
   "metadata": {},
   "source": [
    "<div class=\"alert alert-block alert-warning\">\n",
    "  Note that although they are numbers, we treat them as categorical variables!\n",
    "</div>\n"
   ]
  },
  {
   "cell_type": "code",
   "execution_count": 46,
   "id": "6f0bebfe",
   "metadata": {},
   "outputs": [],
   "source": [
    "imputer = MissForest(categorical=categorical_cols)"
   ]
  },
  {
   "cell_type": "code",
   "execution_count": 47,
   "id": "819385ec",
   "metadata": {},
   "outputs": [
    {
     "name": "stderr",
     "output_type": "stream",
     "text": [
      "/opt/homebrew/anaconda3/lib/python3.10/site-packages/missforest/missforest.py:333: UserWarning: Label encoding is no longer performed by default. Users will have to perform categorical features encoding by themselves.\n",
      "  warnings.warn(\"Label encoding is no longer performed by default. \"\n",
      "100%|███████████████████████████████████████████████████████████████████████████████████████████████████████████████████████████████████████████████████| 5/5 [00:23<00:00,  4.64s/it]\n",
      "/opt/homebrew/anaconda3/lib/python3.10/site-packages/missforest/missforest.py:490: UserWarning: Label encoding is no longer performed by default. Users will have to perform categorical features encoding by themselves.\n",
      "  warnings.warn(\"Label encoding is no longer performed by default. \"\n",
      "/opt/homebrew/anaconda3/lib/python3.10/site-packages/missforest/missforest.py:494: UserWarning: In version 4.2.3, estimator fitting process is moved to `fit` method. `MissForest` will now imputes unseen missing values with fitted estimators with `transform` method. To retain the old behaviour, use `fit_transform` to fit the whole unseen data instead.\n",
      "  warnings.warn(f\"In version {VERSION}, estimator fitting process \"\n",
      "100%|███████████████████████████████████████████████████████████████████████████████████████████████████████████████████████████████████████████████████| 5/5 [00:00<00:00, 80.67it/s]\n"
     ]
    }
   ],
   "source": [
    "df_imputed_array = imputer.fit_transform(df)"
   ]
  },
  {
   "cell_type": "code",
   "execution_count": 48,
   "id": "41b77d78",
   "metadata": {},
   "outputs": [
    {
     "data": {
      "text/html": [
       "<div>\n",
       "<style scoped>\n",
       "    .dataframe tbody tr th:only-of-type {\n",
       "        vertical-align: middle;\n",
       "    }\n",
       "\n",
       "    .dataframe tbody tr th {\n",
       "        vertical-align: top;\n",
       "    }\n",
       "\n",
       "    .dataframe thead th {\n",
       "        text-align: right;\n",
       "    }\n",
       "</style>\n",
       "<table border=\"1\" class=\"dataframe\">\n",
       "  <thead>\n",
       "    <tr style=\"text-align: right;\">\n",
       "      <th></th>\n",
       "      <th>Sex</th>\n",
       "      <th>Job</th>\n",
       "      <th>Housing</th>\n",
       "      <th>Duration</th>\n",
       "      <th>Purpose</th>\n",
       "      <th>Age</th>\n",
       "      <th>Credit amount</th>\n",
       "      <th>Saving accounts</th>\n",
       "      <th>Checking account</th>\n",
       "    </tr>\n",
       "  </thead>\n",
       "  <tbody>\n",
       "    <tr>\n",
       "      <th>0</th>\n",
       "      <td>1.0</td>\n",
       "      <td>1.0</td>\n",
       "      <td>1.0</td>\n",
       "      <td>6</td>\n",
       "      <td>5.0</td>\n",
       "      <td>67.0</td>\n",
       "      <td>1169.0</td>\n",
       "      <td>0.0</td>\n",
       "      <td>0.0</td>\n",
       "    </tr>\n",
       "    <tr>\n",
       "      <th>1</th>\n",
       "      <td>0.0</td>\n",
       "      <td>1.0</td>\n",
       "      <td>1.0</td>\n",
       "      <td>48</td>\n",
       "      <td>5.0</td>\n",
       "      <td>22.0</td>\n",
       "      <td>5951.0</td>\n",
       "      <td>0.0</td>\n",
       "      <td>1.0</td>\n",
       "    </tr>\n",
       "    <tr>\n",
       "      <th>2</th>\n",
       "      <td>1.0</td>\n",
       "      <td>3.0</td>\n",
       "      <td>1.0</td>\n",
       "      <td>12</td>\n",
       "      <td>3.0</td>\n",
       "      <td>49.0</td>\n",
       "      <td>2096.0</td>\n",
       "      <td>0.0</td>\n",
       "      <td>0.0</td>\n",
       "    </tr>\n",
       "    <tr>\n",
       "      <th>3</th>\n",
       "      <td>1.0</td>\n",
       "      <td>1.0</td>\n",
       "      <td>0.0</td>\n",
       "      <td>42</td>\n",
       "      <td>4.0</td>\n",
       "      <td>45.0</td>\n",
       "      <td>7882.0</td>\n",
       "      <td>0.0</td>\n",
       "      <td>0.0</td>\n",
       "    </tr>\n",
       "    <tr>\n",
       "      <th>4</th>\n",
       "      <td>1.0</td>\n",
       "      <td>1.0</td>\n",
       "      <td>0.0</td>\n",
       "      <td>24</td>\n",
       "      <td>1.0</td>\n",
       "      <td>53.0</td>\n",
       "      <td>4870.0</td>\n",
       "      <td>0.0</td>\n",
       "      <td>0.0</td>\n",
       "    </tr>\n",
       "  </tbody>\n",
       "</table>\n",
       "</div>"
      ],
      "text/plain": [
       "   Sex  Job  Housing  Duration  Purpose   Age  Credit amount  Saving accounts  \\\n",
       "0  1.0  1.0      1.0         6      5.0  67.0         1169.0              0.0   \n",
       "1  0.0  1.0      1.0        48      5.0  22.0         5951.0              0.0   \n",
       "2  1.0  3.0      1.0        12      3.0  49.0         2096.0              0.0   \n",
       "3  1.0  1.0      0.0        42      4.0  45.0         7882.0              0.0   \n",
       "4  1.0  1.0      0.0        24      1.0  53.0         4870.0              0.0   \n",
       "\n",
       "   Checking account  \n",
       "0               0.0  \n",
       "1               1.0  \n",
       "2               0.0  \n",
       "3               0.0  \n",
       "4               0.0  "
      ]
     },
     "execution_count": 48,
     "metadata": {},
     "output_type": "execute_result"
    }
   ],
   "source": [
    "df_imputed_array.head()"
   ]
  },
  {
   "cell_type": "code",
   "execution_count": 49,
   "id": "db1bddce",
   "metadata": {
    "scrolled": true
   },
   "outputs": [
    {
     "name": "stdout",
     "output_type": "stream",
     "text": [
      "<class 'pandas.core.frame.DataFrame'>\n",
      "RangeIndex: 1000 entries, 0 to 999\n",
      "Data columns (total 9 columns):\n",
      " #   Column            Non-Null Count  Dtype  \n",
      "---  ------            --------------  -----  \n",
      " 0   Sex               1000 non-null   float64\n",
      " 1   Job               1000 non-null   float64\n",
      " 2   Housing           1000 non-null   float64\n",
      " 3   Duration          1000 non-null   int64  \n",
      " 4   Purpose           1000 non-null   float64\n",
      " 5   Age               1000 non-null   float64\n",
      " 6   Credit amount     1000 non-null   float64\n",
      " 7   Saving accounts   1000 non-null   float64\n",
      " 8   Checking account  1000 non-null   float64\n",
      "dtypes: float64(8), int64(1)\n",
      "memory usage: 70.4 KB\n"
     ]
    }
   ],
   "source": [
    "df_imputed_array.info()"
   ]
  },
  {
   "cell_type": "markdown",
   "id": "ee6b6cc2",
   "metadata": {},
   "source": [
    "<div class=\"alert alert-info\">\n",
    "  <strong>Assignment 2:</strong> How well did missForest imputation perform? Compare the imputed values to the original (before introducing missing values) to measure the true performance.\n",
    "</div>"
   ]
  },
  {
   "cell_type": "markdown",
   "id": "55947cb6",
   "metadata": {},
   "source": [
    "<div class=\"alert alert-info\">\n",
    "  <strong>Assignment 3:</strong> Identify variables with a natural order, convert them into numeric format reflecting that order, and compare how the imputation performs before and after this transformation.\n",
    "</div>"
   ]
  },
  {
   "cell_type": "markdown",
   "id": "90a9e182",
   "metadata": {},
   "source": [
    "<div class=\"alert alert-info\">\n",
    "  Further reading: useful library that we are not using here: <a href=https://github.com/iskandr/fancyimpute>https://github.com/iskandr/fancyimpute</a>.\n",
    "</div>"
   ]
  }
 ],
 "metadata": {
  "kernelspec": {
   "display_name": "Python 3 (ipykernel)",
   "language": "python",
   "name": "python3"
  },
  "language_info": {
   "codemirror_mode": {
    "name": "ipython",
    "version": 3
   },
   "file_extension": ".py",
   "mimetype": "text/x-python",
   "name": "python",
   "nbconvert_exporter": "python",
   "pygments_lexer": "ipython3",
   "version": "3.10.9"
  }
 },
 "nbformat": 4,
 "nbformat_minor": 5
}
