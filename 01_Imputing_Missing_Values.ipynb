{
 "cells": [
  {
   "cell_type": "code",
   "execution_count": null,
   "id": "02030907",
   "metadata": {},
   "outputs": [],
   "source": [
    "%config InlineBackend.figure_format = 'retina'"
   ]
  },
  {
   "cell_type": "code",
   "execution_count": null,
   "id": "5df019e6",
   "metadata": {},
   "outputs": [],
   "source": [
    "import pandas as pd"
   ]
  },
  {
   "cell_type": "code",
   "execution_count": null,
   "id": "ad455421",
   "metadata": {},
   "outputs": [],
   "source": [
    "import matplotlib.pyplot as plt"
   ]
  },
  {
   "cell_type": "code",
   "execution_count": null,
   "id": "d74313ef",
   "metadata": {},
   "outputs": [],
   "source": [
    "import numpy as np"
   ]
  },
  {
   "cell_type": "markdown",
   "id": "fb09d97b",
   "metadata": {},
   "source": [
    "<div class=\"alert alert-danger\">\n",
    "  You must have MissForest package: <br>\n",
    "   ! pip install MissForest <br>\n",
    "   ! pip install lightgbm\n",
    "</div>"
   ]
  },
  {
   "cell_type": "markdown",
   "id": "c395219f",
   "metadata": {},
   "source": [
    "# 1) Loading data"
   ]
  },
  {
   "cell_type": "code",
   "execution_count": null,
   "id": "fe14c559",
   "metadata": {},
   "outputs": [],
   "source": [
    "url = 'https://raw.githubusercontent.com/SaravananJaichandar/Credit-Risk-Model/refs/heads/master/german_credit_data.csv'\n",
    "df = pd.read_csv(url, header=0, names = ['Index', 'Age', 'Sex', 'Job', 'Housing', 'Saving accounts',\n",
    "       'Checking account', 'Credit amount', 'Duration', 'Purpose'])\n",
    "df = df.iloc[:, 1:]\n",
    "\n",
    "job_mapping = {0: 'unemployed/unskilled', 1: 'unskilled', 2: 'skilled', 3: 'highly skilled'}\n",
    "\n",
    "df['Job'] = df['Job'].map(job_mapping).astype('object')"
   ]
  },
  {
   "cell_type": "markdown",
   "id": "72a37179",
   "metadata": {},
   "source": [
    "The **German Credit Data** dataset contains information about individuals and their financial background, used to determine their **creditworthiness**. It includes both **numerical** and **categorical** features related to personal characteristics, financial status, and loan information. \n",
    "\n",
    "<b>Features</b>\n",
    "\n",
    "- `Age`: Age of the individual (numeric).\n",
    "- `Sex`: Gender of the individual (`male` or `female`).\n",
    "- `Job`: Job category (0 = unemployed/unskilled, 1 = unskilled, 2 = skilled, 3 = highly skilled).\n",
    "- `Housing`: Housing status (`own`, `rent`, or `free`).\n",
    "- `Saving accounts`: Category indicating amount in savings account (`little`, `moderate`, `quite rich`, `rich`, or `NaN`).\n",
    "- `Checking account`: Category indicating balance in checking account (`little`, `moderate`, `rich`, or `NaN`).\n",
    "- `Credit amount`: Amount of the loan requested (numeric).\n",
    "- `Duration`: Duration of the loan in months (numeric).\n",
    "- `Purpose`: Reason for the loan (`car`, `furniture/equipment`, `radio/TV`, `education`, `business`, etc.)."
   ]
  },
  {
   "cell_type": "code",
   "execution_count": null,
   "id": "5029b31c",
   "metadata": {},
   "outputs": [],
   "source": [
    "df.info()"
   ]
  },
  {
   "cell_type": "code",
   "execution_count": null,
   "id": "136f310d",
   "metadata": {},
   "outputs": [],
   "source": [
    "df.head()"
   ]
  },
  {
   "cell_type": "markdown",
   "id": "d24d99fb",
   "metadata": {},
   "source": [
    "Let's introduce some more `NaN` into the data, randomly. "
   ]
  },
  {
   "cell_type": "code",
   "execution_count": null,
   "id": "287c3978",
   "metadata": {},
   "outputs": [],
   "source": [
    "df.loc[np.random.randint(1000, size=20),\"Age\"] = None\n",
    "df.loc[np.random.randint(1000, size=20),\"Credit amount\"] = None"
   ]
  },
  {
   "cell_type": "code",
   "execution_count": null,
   "id": "d13b3693",
   "metadata": {},
   "outputs": [],
   "source": [
    "df.info()"
   ]
  },
  {
   "cell_type": "markdown",
   "id": "15b2077a",
   "metadata": {},
   "source": [
    "# 2) Imputing missing values"
   ]
  },
  {
   "cell_type": "markdown",
   "id": "339b3e0c",
   "metadata": {},
   "source": [
    "## 2.1) Central tendency"
   ]
  },
  {
   "cell_type": "code",
   "execution_count": null,
   "id": "13683cf1",
   "metadata": {},
   "outputs": [],
   "source": [
    "categorical_cols = list(df.select_dtypes(include=['object', 'category']).columns)\n",
    "numerical_cols = list(df.select_dtypes(include=['number']).columns)"
   ]
  },
  {
   "cell_type": "code",
   "execution_count": null,
   "id": "c10ae914",
   "metadata": {},
   "outputs": [],
   "source": [
    "categorical_cols"
   ]
  },
  {
   "cell_type": "code",
   "execution_count": null,
   "id": "b0ea2221",
   "metadata": {},
   "outputs": [],
   "source": [
    "numerical_cols"
   ]
  },
  {
   "cell_type": "code",
   "execution_count": null,
   "id": "1a91ca67",
   "metadata": {},
   "outputs": [],
   "source": [
    "df.head()"
   ]
  },
  {
   "cell_type": "markdown",
   "id": "ab470098",
   "metadata": {},
   "source": [
    "The following are the mean and mode values:"
   ]
  },
  {
   "cell_type": "code",
   "execution_count": null,
   "id": "6d039dc7",
   "metadata": {},
   "outputs": [],
   "source": [
    "df[numerical_cols].mean()"
   ]
  },
  {
   "cell_type": "code",
   "execution_count": null,
   "id": "9e408a13",
   "metadata": {},
   "outputs": [],
   "source": [
    "df[categorical_cols].mode()"
   ]
  },
  {
   "cell_type": "markdown",
   "id": "f7098d93",
   "metadata": {},
   "source": [
    "Let's impute missing values!"
   ]
  },
  {
   "cell_type": "code",
   "execution_count": null,
   "id": "307a060e",
   "metadata": {},
   "outputs": [],
   "source": [
    "from sklearn.impute import SimpleImputer"
   ]
  },
  {
   "cell_type": "markdown",
   "id": "ac05cf7e",
   "metadata": {},
   "source": [
    "We use the mean for numerical variables and the mode for the categorical ones. "
   ]
  },
  {
   "cell_type": "code",
   "execution_count": null,
   "id": "bf9e28dc",
   "metadata": {},
   "outputs": [],
   "source": [
    "mean_imputer = SimpleImputer(strategy='mean')\n",
    "mode_imputer = SimpleImputer(strategy='most_frequent')"
   ]
  },
  {
   "cell_type": "code",
   "execution_count": null,
   "id": "087c8508",
   "metadata": {},
   "outputs": [],
   "source": [
    "df_central_tendency_imputed = df.copy()"
   ]
  },
  {
   "cell_type": "code",
   "execution_count": null,
   "id": "8cab0903",
   "metadata": {},
   "outputs": [],
   "source": [
    "df_central_tendency_imputed[numerical_cols] = pd.DataFrame(\n",
    "    mean_imputer.fit_transform(df_central_tendency_imputed[numerical_cols]), columns=numerical_cols)"
   ]
  },
  {
   "cell_type": "code",
   "execution_count": null,
   "id": "1131fd69",
   "metadata": {},
   "outputs": [],
   "source": [
    "df_central_tendency_imputed[categorical_cols] = pd.DataFrame(\n",
    "    mode_imputer.fit_transform(df_central_tendency_imputed[categorical_cols]), columns=categorical_cols)"
   ]
  },
  {
   "cell_type": "code",
   "execution_count": null,
   "id": "d7753be0",
   "metadata": {},
   "outputs": [],
   "source": [
    "df_central_tendency_imputed.head()"
   ]
  },
  {
   "cell_type": "markdown",
   "id": "76a7bd42",
   "metadata": {},
   "source": [
    "## 2.1) k-Nearest Neighbors"
   ]
  },
  {
   "cell_type": "code",
   "execution_count": null,
   "id": "cb1deadb",
   "metadata": {},
   "outputs": [],
   "source": [
    "from sklearn.impute import KNNImputer"
   ]
  },
  {
   "cell_type": "markdown",
   "id": "f970c3d9",
   "metadata": {},
   "source": [
    "### First, a toy example."
   ]
  },
  {
   "cell_type": "code",
   "execution_count": null,
   "id": "9f17d967",
   "metadata": {},
   "outputs": [],
   "source": [
    "# toy dataset with 10 observations\n",
    "toy_example = pd.DataFrame({\n",
    "    'Age':     [25, np.nan, 30, 32, 22, 29, np.nan, 24, 28, np.nan],  \n",
    "    'Pclass':  [1,    2,    1,   3,  2,   1,   2,   3,  1,   1],\n",
    "    'Fare':    [50,  60,  np.nan, 40, 55, 48, 52, 42, 49, 50],    \n",
    "    'Survived':[0,    1,    1,   0,  1,   1,   0,   0,  1,   0]\n",
    "})"
   ]
  },
  {
   "cell_type": "code",
   "execution_count": null,
   "id": "aa67fd5a",
   "metadata": {},
   "outputs": [],
   "source": [
    "toy_example"
   ]
  },
  {
   "cell_type": "code",
   "execution_count": null,
   "id": "e3120cec",
   "metadata": {},
   "outputs": [],
   "source": [
    "# Create KNNImputer instance with 2 nearest neighbors\n",
    "imputer = KNNImputer(n_neighbors=2)\n",
    "\n",
    "# Fit and transform the dataset\n",
    "toy_example_imputed = pd.DataFrame(imputer.fit_transform(toy_example), columns=toy_example.columns)"
   ]
  },
  {
   "cell_type": "code",
   "execution_count": null,
   "id": "b14fd346",
   "metadata": {},
   "outputs": [],
   "source": [
    "toy_example_imputed"
   ]
  },
  {
   "cell_type": "markdown",
   "id": "e1269eb6",
   "metadata": {},
   "source": [
    "### Larger data set"
   ]
  },
  {
   "cell_type": "code",
   "execution_count": null,
   "id": "964f7f0e",
   "metadata": {},
   "outputs": [],
   "source": [
    "df.head()"
   ]
  },
  {
   "cell_type": "code",
   "execution_count": null,
   "id": "f2d19541",
   "metadata": {},
   "outputs": [],
   "source": [
    "df.info()"
   ]
  },
  {
   "cell_type": "code",
   "execution_count": null,
   "id": "f2885876",
   "metadata": {},
   "outputs": [],
   "source": [
    "imputer = KNNImputer(n_neighbors=2)"
   ]
  },
  {
   "cell_type": "code",
   "execution_count": null,
   "id": "35089c84",
   "metadata": {},
   "outputs": [],
   "source": [
    "# imputer.fit_transform(df) # this shouldn't work "
   ]
  },
  {
   "cell_type": "code",
   "execution_count": null,
   "id": "c99a07ca",
   "metadata": {},
   "outputs": [],
   "source": [
    "numerical_cols"
   ]
  },
  {
   "cell_type": "code",
   "execution_count": null,
   "id": "2b860bd6",
   "metadata": {},
   "outputs": [],
   "source": [
    "df[numerical_cols].info()"
   ]
  },
  {
   "cell_type": "code",
   "execution_count": null,
   "id": "32d64b33",
   "metadata": {},
   "outputs": [],
   "source": [
    "imputer.fit_transform(df[numerical_cols])"
   ]
  },
  {
   "cell_type": "code",
   "execution_count": null,
   "id": "5f04e8a5",
   "metadata": {},
   "outputs": [],
   "source": [
    "df_knn_imputed = pd.DataFrame(imputer.fit_transform(df[numerical_cols]), columns=numerical_cols)"
   ]
  },
  {
   "cell_type": "code",
   "execution_count": null,
   "id": "b67cacea",
   "metadata": {},
   "outputs": [],
   "source": [
    "df[categorical_cols].head()"
   ]
  },
  {
   "cell_type": "code",
   "execution_count": null,
   "id": "8c41a05a",
   "metadata": {},
   "outputs": [],
   "source": [
    "df_knn_imputed = df_knn_imputed.join(df[categorical_cols])"
   ]
  },
  {
   "cell_type": "code",
   "execution_count": null,
   "id": "b34432d9",
   "metadata": {},
   "outputs": [],
   "source": [
    "df_knn_imputed.head()"
   ]
  },
  {
   "cell_type": "code",
   "execution_count": null,
   "id": "4a158fa1",
   "metadata": {},
   "outputs": [],
   "source": [
    "df_knn_imputed.info()"
   ]
  },
  {
   "cell_type": "markdown",
   "id": "57060169",
   "metadata": {},
   "source": [
    "<div class=\"alert alert-info\">\n",
    "  <strong>Assignment 1:</strong> How well did KNN imputation perform? To evaluate its accuracy, compare the imputed values to the original ones using Mean Squared Error (MSE).\n",
    "</div>\n"
   ]
  },
  {
   "cell_type": "markdown",
   "id": "3d6d8ce2",
   "metadata": {},
   "source": [
    "## 2.2) missForest 🌳"
   ]
  },
  {
   "cell_type": "code",
   "execution_count": null,
   "id": "50de90e6",
   "metadata": {},
   "outputs": [],
   "source": [
    "# ! pip install missforest # if you don't have it installed\n",
    "# ! pip install lightgbm"
   ]
  },
  {
   "cell_type": "code",
   "execution_count": null,
   "id": "e6fbc979",
   "metadata": {},
   "outputs": [],
   "source": [
    "from missforest import MissForest "
   ]
  },
  {
   "cell_type": "code",
   "execution_count": null,
   "id": "b0426563",
   "metadata": {},
   "outputs": [],
   "source": [
    "df.head()"
   ]
  },
  {
   "cell_type": "code",
   "execution_count": null,
   "id": "6fc505be",
   "metadata": {},
   "outputs": [],
   "source": [
    "df.info()"
   ]
  },
  {
   "cell_type": "markdown",
   "id": "8fa21f9e",
   "metadata": {},
   "source": [
    "`missForest` is a bit picky regarding representation, so we will transform categorical into a integer representation. "
   ]
  },
  {
   "cell_type": "code",
   "execution_count": null,
   "id": "c779c3f7",
   "metadata": {},
   "outputs": [],
   "source": [
    "from sklearn.preprocessing import OrdinalEncoder"
   ]
  },
  {
   "cell_type": "code",
   "execution_count": null,
   "id": "88cc73c0",
   "metadata": {},
   "outputs": [],
   "source": [
    "encoder = OrdinalEncoder()\n",
    "df[categorical_cols] = encoder.fit_transform(df[categorical_cols])"
   ]
  },
  {
   "cell_type": "code",
   "execution_count": null,
   "id": "35fe89d9",
   "metadata": {},
   "outputs": [],
   "source": [
    "df.head()"
   ]
  },
  {
   "cell_type": "code",
   "execution_count": null,
   "id": "110570d9",
   "metadata": {},
   "outputs": [],
   "source": [
    "for col, cats in zip(categorical_cols, encoder.categories_):\n",
    "    print(f\"Mapping for '{col}':\")\n",
    "    for i, cat in enumerate(cats):\n",
    "        if not pd.isna(cat): \n",
    "            print(f\"    {cat} -> {i}\")"
   ]
  },
  {
   "cell_type": "markdown",
   "id": "ef5c359e",
   "metadata": {},
   "source": [
    "<div class=\"alert alert-block alert-warning\">\n",
    "  Note that although they are numbers, we treat them as categorical variables!\n",
    "</div>\n"
   ]
  },
  {
   "cell_type": "code",
   "execution_count": null,
   "id": "6f0bebfe",
   "metadata": {},
   "outputs": [],
   "source": [
    "imputer = MissForest(categorical=categorical_cols)"
   ]
  },
  {
   "cell_type": "code",
   "execution_count": null,
   "id": "819385ec",
   "metadata": {},
   "outputs": [],
   "source": [
    "df_imputed_array = imputer.fit_transform(df)"
   ]
  },
  {
   "cell_type": "code",
   "execution_count": null,
   "id": "41b77d78",
   "metadata": {},
   "outputs": [],
   "source": [
    "df_imputed_array.head()"
   ]
  },
  {
   "cell_type": "code",
   "execution_count": null,
   "id": "db1bddce",
   "metadata": {
    "scrolled": true
   },
   "outputs": [],
   "source": [
    "df_imputed_array.info()"
   ]
  },
  {
   "cell_type": "markdown",
   "id": "ee6b6cc2",
   "metadata": {},
   "source": [
    "<div class=\"alert alert-info\">\n",
    "  <strong>Assignment 2:</strong> How well did missForest imputation perform? Compare the imputed values to the original (before introducing missing values) to measure the true performance.\n",
    "</div>"
   ]
  },
  {
   "cell_type": "markdown",
   "id": "55947cb6",
   "metadata": {},
   "source": [
    "<div class=\"alert alert-info\">\n",
    "  <strong>Assignment 3:</strong> Identify variables with a natural order, convert them into numeric format reflecting that order, and compare how the imputation performs before and after this transformation.\n",
    "</div>"
   ]
  },
  {
   "cell_type": "markdown",
   "id": "90a9e182",
   "metadata": {},
   "source": [
    "<div class=\"alert alert-info\">\n",
    "  Further reading: useful library that we are not using here: <a href=https://github.com/iskandr/fancyimpute>https://github.com/iskandr/fancyimpute</a>.\n",
    "</div>"
   ]
  }
 ],
 "metadata": {
  "kernelspec": {
   "display_name": "Python 3 (ipykernel)",
   "language": "python",
   "name": "python3"
  },
  "language_info": {
   "codemirror_mode": {
    "name": "ipython",
    "version": 3
   },
   "file_extension": ".py",
   "mimetype": "text/x-python",
   "name": "python",
   "nbconvert_exporter": "python",
   "pygments_lexer": "ipython3",
   "version": "3.10.9"
  }
 },
 "nbformat": 4,
 "nbformat_minor": 5
}
